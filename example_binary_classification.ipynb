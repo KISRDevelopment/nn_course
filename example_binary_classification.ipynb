{
 "cells": [
  {
   "cell_type": "markdown",
   "id": "28ab9161-bf35-4880-88cd-a6e439aea73d",
   "metadata": {},
   "source": [
    "# Binary Classification Example: Bank Note Dataset"
   ]
  },
  {
   "cell_type": "code",
   "execution_count": 137,
   "id": "7d8d2e9f-d3bb-440a-8298-7f7957d52c2f",
   "metadata": {},
   "outputs": [],
   "source": [
    "import pandas as pd\n",
    "import numpy as np\n",
    "import tensorflow as tf\n",
    "import sklearn.metrics\n",
    "import numpy.random as rng\n",
    "import matplotlib.pyplot as plt"
   ]
  },
  {
   "cell_type": "code",
   "execution_count": 138,
   "id": "54959850-eac2-436b-8248-e8229cecd965",
   "metadata": {},
   "outputs": [
    {
     "data": {
      "text/html": [
       "<div>\n",
       "<style scoped>\n",
       "    .dataframe tbody tr th:only-of-type {\n",
       "        vertical-align: middle;\n",
       "    }\n",
       "\n",
       "    .dataframe tbody tr th {\n",
       "        vertical-align: top;\n",
       "    }\n",
       "\n",
       "    .dataframe thead th {\n",
       "        text-align: right;\n",
       "    }\n",
       "</style>\n",
       "<table border=\"1\" class=\"dataframe\">\n",
       "  <thead>\n",
       "    <tr style=\"text-align: right;\">\n",
       "      <th></th>\n",
       "      <th>0</th>\n",
       "      <th>1</th>\n",
       "      <th>2</th>\n",
       "      <th>3</th>\n",
       "      <th>4</th>\n",
       "    </tr>\n",
       "  </thead>\n",
       "  <tbody>\n",
       "    <tr>\n",
       "      <th>0</th>\n",
       "      <td>3.62160</td>\n",
       "      <td>8.66610</td>\n",
       "      <td>-2.8073</td>\n",
       "      <td>-0.44699</td>\n",
       "      <td>0</td>\n",
       "    </tr>\n",
       "    <tr>\n",
       "      <th>1</th>\n",
       "      <td>4.54590</td>\n",
       "      <td>8.16740</td>\n",
       "      <td>-2.4586</td>\n",
       "      <td>-1.46210</td>\n",
       "      <td>0</td>\n",
       "    </tr>\n",
       "    <tr>\n",
       "      <th>2</th>\n",
       "      <td>3.86600</td>\n",
       "      <td>-2.63830</td>\n",
       "      <td>1.9242</td>\n",
       "      <td>0.10645</td>\n",
       "      <td>0</td>\n",
       "    </tr>\n",
       "    <tr>\n",
       "      <th>3</th>\n",
       "      <td>3.45660</td>\n",
       "      <td>9.52280</td>\n",
       "      <td>-4.0112</td>\n",
       "      <td>-3.59440</td>\n",
       "      <td>0</td>\n",
       "    </tr>\n",
       "    <tr>\n",
       "      <th>4</th>\n",
       "      <td>0.32924</td>\n",
       "      <td>-4.45520</td>\n",
       "      <td>4.5718</td>\n",
       "      <td>-0.98880</td>\n",
       "      <td>0</td>\n",
       "    </tr>\n",
       "    <tr>\n",
       "      <th>...</th>\n",
       "      <td>...</td>\n",
       "      <td>...</td>\n",
       "      <td>...</td>\n",
       "      <td>...</td>\n",
       "      <td>...</td>\n",
       "    </tr>\n",
       "    <tr>\n",
       "      <th>1367</th>\n",
       "      <td>0.40614</td>\n",
       "      <td>1.34920</td>\n",
       "      <td>-1.4501</td>\n",
       "      <td>-0.55949</td>\n",
       "      <td>1</td>\n",
       "    </tr>\n",
       "    <tr>\n",
       "      <th>1368</th>\n",
       "      <td>-1.38870</td>\n",
       "      <td>-4.87730</td>\n",
       "      <td>6.4774</td>\n",
       "      <td>0.34179</td>\n",
       "      <td>1</td>\n",
       "    </tr>\n",
       "    <tr>\n",
       "      <th>1369</th>\n",
       "      <td>-3.75030</td>\n",
       "      <td>-13.45860</td>\n",
       "      <td>17.5932</td>\n",
       "      <td>-2.77710</td>\n",
       "      <td>1</td>\n",
       "    </tr>\n",
       "    <tr>\n",
       "      <th>1370</th>\n",
       "      <td>-3.56370</td>\n",
       "      <td>-8.38270</td>\n",
       "      <td>12.3930</td>\n",
       "      <td>-1.28230</td>\n",
       "      <td>1</td>\n",
       "    </tr>\n",
       "    <tr>\n",
       "      <th>1371</th>\n",
       "      <td>-2.54190</td>\n",
       "      <td>-0.65804</td>\n",
       "      <td>2.6842</td>\n",
       "      <td>1.19520</td>\n",
       "      <td>1</td>\n",
       "    </tr>\n",
       "  </tbody>\n",
       "</table>\n",
       "<p>1372 rows × 5 columns</p>\n",
       "</div>"
      ],
      "text/plain": [
       "            0         1        2        3  4\n",
       "0     3.62160   8.66610  -2.8073 -0.44699  0\n",
       "1     4.54590   8.16740  -2.4586 -1.46210  0\n",
       "2     3.86600  -2.63830   1.9242  0.10645  0\n",
       "3     3.45660   9.52280  -4.0112 -3.59440  0\n",
       "4     0.32924  -4.45520   4.5718 -0.98880  0\n",
       "...       ...       ...      ...      ... ..\n",
       "1367  0.40614   1.34920  -1.4501 -0.55949  1\n",
       "1368 -1.38870  -4.87730   6.4774  0.34179  1\n",
       "1369 -3.75030 -13.45860  17.5932 -2.77710  1\n",
       "1370 -3.56370  -8.38270  12.3930 -1.28230  1\n",
       "1371 -2.54190  -0.65804   2.6842  1.19520  1\n",
       "\n",
       "[1372 rows x 5 columns]"
      ]
     },
     "execution_count": 138,
     "metadata": {},
     "output_type": "execute_result"
    }
   ],
   "source": [
    "df = pd.read_csv(\"data/data_banknote_authentication.txt\", sep=\",\", header=None)\n",
    "df"
   ]
  },
  {
   "cell_type": "code",
   "execution_count": 140,
   "id": "d9bd1baf-8d81-414c-994b-baa2ded0b1ea",
   "metadata": {},
   "outputs": [
    {
     "data": {
      "text/html": [
       "<div>\n",
       "<style scoped>\n",
       "    .dataframe tbody tr th:only-of-type {\n",
       "        vertical-align: middle;\n",
       "    }\n",
       "\n",
       "    .dataframe tbody tr th {\n",
       "        vertical-align: top;\n",
       "    }\n",
       "\n",
       "    .dataframe thead th {\n",
       "        text-align: right;\n",
       "    }\n",
       "</style>\n",
       "<table border=\"1\" class=\"dataframe\">\n",
       "  <thead>\n",
       "    <tr style=\"text-align: right;\">\n",
       "      <th></th>\n",
       "      <th>0</th>\n",
       "      <th>1</th>\n",
       "      <th>2</th>\n",
       "      <th>3</th>\n",
       "      <th>4</th>\n",
       "    </tr>\n",
       "  </thead>\n",
       "  <tbody>\n",
       "    <tr>\n",
       "      <th>0</th>\n",
       "      <td>1.000000</td>\n",
       "      <td>0.255126</td>\n",
       "      <td>-0.326704</td>\n",
       "      <td>0.241503</td>\n",
       "      <td>-0.735605</td>\n",
       "    </tr>\n",
       "    <tr>\n",
       "      <th>1</th>\n",
       "      <td>0.255126</td>\n",
       "      <td>1.000000</td>\n",
       "      <td>-0.729426</td>\n",
       "      <td>-0.572510</td>\n",
       "      <td>-0.429016</td>\n",
       "    </tr>\n",
       "    <tr>\n",
       "      <th>2</th>\n",
       "      <td>-0.326704</td>\n",
       "      <td>-0.729426</td>\n",
       "      <td>1.000000</td>\n",
       "      <td>0.433299</td>\n",
       "      <td>0.061600</td>\n",
       "    </tr>\n",
       "    <tr>\n",
       "      <th>3</th>\n",
       "      <td>0.241503</td>\n",
       "      <td>-0.572510</td>\n",
       "      <td>0.433299</td>\n",
       "      <td>1.000000</td>\n",
       "      <td>-0.032751</td>\n",
       "    </tr>\n",
       "    <tr>\n",
       "      <th>4</th>\n",
       "      <td>-0.735605</td>\n",
       "      <td>-0.429016</td>\n",
       "      <td>0.061600</td>\n",
       "      <td>-0.032751</td>\n",
       "      <td>1.000000</td>\n",
       "    </tr>\n",
       "  </tbody>\n",
       "</table>\n",
       "</div>"
      ],
      "text/plain": [
       "          0         1         2         3         4\n",
       "0  1.000000  0.255126 -0.326704  0.241503 -0.735605\n",
       "1  0.255126  1.000000 -0.729426 -0.572510 -0.429016\n",
       "2 -0.326704 -0.729426  1.000000  0.433299  0.061600\n",
       "3  0.241503 -0.572510  0.433299  1.000000 -0.032751\n",
       "4 -0.735605 -0.429016  0.061600 -0.032751  1.000000"
      ]
     },
     "execution_count": 140,
     "metadata": {},
     "output_type": "execute_result"
    }
   ],
   "source": [
    "df.corr(method='spearman')"
   ]
  },
  {
   "cell_type": "code",
   "execution_count": 141,
   "id": "bdc944d9-4ac4-48da-b8bd-f83348633855",
   "metadata": {},
   "outputs": [
    {
     "data": {
      "text/html": [
       "<div>\n",
       "<style scoped>\n",
       "    .dataframe tbody tr th:only-of-type {\n",
       "        vertical-align: middle;\n",
       "    }\n",
       "\n",
       "    .dataframe tbody tr th {\n",
       "        vertical-align: top;\n",
       "    }\n",
       "\n",
       "    .dataframe thead th {\n",
       "        text-align: right;\n",
       "    }\n",
       "</style>\n",
       "<table border=\"1\" class=\"dataframe\">\n",
       "  <thead>\n",
       "    <tr style=\"text-align: right;\">\n",
       "      <th></th>\n",
       "      <th>0</th>\n",
       "      <th>1</th>\n",
       "      <th>2</th>\n",
       "      <th>3</th>\n",
       "      <th>4</th>\n",
       "    </tr>\n",
       "  </thead>\n",
       "  <tbody>\n",
       "    <tr>\n",
       "      <th>0</th>\n",
       "      <td>1.000000</td>\n",
       "      <td>0.264026</td>\n",
       "      <td>-0.380850</td>\n",
       "      <td>0.276817</td>\n",
       "      <td>-0.724843</td>\n",
       "    </tr>\n",
       "    <tr>\n",
       "      <th>1</th>\n",
       "      <td>0.264026</td>\n",
       "      <td>1.000000</td>\n",
       "      <td>-0.786895</td>\n",
       "      <td>-0.526321</td>\n",
       "      <td>-0.444688</td>\n",
       "    </tr>\n",
       "    <tr>\n",
       "      <th>2</th>\n",
       "      <td>-0.380850</td>\n",
       "      <td>-0.786895</td>\n",
       "      <td>1.000000</td>\n",
       "      <td>0.318841</td>\n",
       "      <td>0.155883</td>\n",
       "    </tr>\n",
       "    <tr>\n",
       "      <th>3</th>\n",
       "      <td>0.276817</td>\n",
       "      <td>-0.526321</td>\n",
       "      <td>0.318841</td>\n",
       "      <td>1.000000</td>\n",
       "      <td>-0.023424</td>\n",
       "    </tr>\n",
       "    <tr>\n",
       "      <th>4</th>\n",
       "      <td>-0.724843</td>\n",
       "      <td>-0.444688</td>\n",
       "      <td>0.155883</td>\n",
       "      <td>-0.023424</td>\n",
       "      <td>1.000000</td>\n",
       "    </tr>\n",
       "  </tbody>\n",
       "</table>\n",
       "</div>"
      ],
      "text/plain": [
       "          0         1         2         3         4\n",
       "0  1.000000  0.264026 -0.380850  0.276817 -0.724843\n",
       "1  0.264026  1.000000 -0.786895 -0.526321 -0.444688\n",
       "2 -0.380850 -0.786895  1.000000  0.318841  0.155883\n",
       "3  0.276817 -0.526321  0.318841  1.000000 -0.023424\n",
       "4 -0.724843 -0.444688  0.155883 -0.023424  1.000000"
      ]
     },
     "execution_count": 141,
     "metadata": {},
     "output_type": "execute_result"
    }
   ],
   "source": [
    "df.corr(method='pearson')"
   ]
  },
  {
   "cell_type": "code",
   "execution_count": 143,
   "id": "f39f53db-6da4-4926-b12f-d7fa762b2fd6",
   "metadata": {},
   "outputs": [
    {
     "data": {
      "text/plain": [
       "Text(0.5, 1.0, 'Inauthentic')"
      ]
     },
     "execution_count": 143,
     "metadata": {},
     "output_type": "execute_result"
    },
    {
     "data": {
      "image/png": "[encoded data removed]",
      "text/plain": [
       "<Figure size 720x720 with 2 Axes>"
      ]
     },
     "metadata": {
      "needs_background": "light"
     },
     "output_type": "display_data"
    }
   ],
   "source": [
    "col = 2\n",
    "\n",
    "authentic_notes_ix = df[4] == 0\n",
    "feature_values = df[authentic_notes_ix][col]\n",
    "\n",
    "f, axes = plt.subplots(2, 1, figsize=(10, 10), sharex=True)\n",
    "axes[0].hist(feature_values, bins=20)\n",
    "axes[0].set_title('Authentic')\n",
    "\n",
    "inauthentic_notes_ix = df[4] == 1\n",
    "feature_values = df[inauthentic_notes_ix][col]\n",
    "axes[1].hist(feature_values, bins=20, color='orange')\n",
    "axes[1].set_title('Inauthentic')"
   ]
  },
  {
   "cell_type": "code",
   "execution_count": 175,
   "id": "0b40a48b-4bff-4b0b-adaa-58160e886d08",
   "metadata": {},
   "outputs": [],
   "source": [
    "X = np.array(df[[0,1]])\n",
    "y = np.array(df[[4]]) ## doing [[4]] is important!!!"
   ]
  },
  {
   "cell_type": "code",
   "execution_count": 176,
   "id": "5d4d8c44-eada-4003-882d-2b420d7e7fd8",
   "metadata": {},
   "outputs": [
    {
     "name": "stdout",
     "output_type": "stream",
     "text": [
      "[0.43373526 1.92235312]\n",
      "[2.84172641 5.86690749]\n",
      "[[ 1.12180565  1.14945512]\n",
      " [ 1.44706568  1.06445293]\n",
      " [ 1.20780971 -0.77735215]\n",
      " ...\n",
      " [-1.47235682 -2.62164576]\n",
      " [-1.40669251 -1.75647104]\n",
      " [-1.04712236 -0.43982168]]\n",
      "[0.00000000e+00 4.14310633e-17]\n",
      "[1. 1.]\n"
     ]
    }
   ],
   "source": [
    "muX = np.mean(X, axis=0)\n",
    "print(muX)\n",
    "stdX = np.std(X, axis=0)\n",
    "print(stdX)\n",
    "Z = (X - muX) / stdX\n",
    "print(Z)\n",
    "print(np.mean(Z, axis=0))\n",
    "print(np.std(Z, axis=0))"
   ]
  },
  {
   "cell_type": "code",
   "execution_count": 178,
   "id": "fe985cdc-20d1-4589-b4a9-d98729002c94",
   "metadata": {},
   "outputs": [
    {
     "name": "stdout",
     "output_type": "stream",
     "text": [
      "Final XE: 0.1474\n",
      "Accuracy: 0.93\n",
      "AUC-ROC: 0.99\n"
     ]
    }
   ],
   "source": [
    "# try varying the number of hidden units\n",
    "n_hidden = 10\n",
    "eta = 0.1\n",
    "\n",
    "# move data to tensorflow space\n",
    "Z = tf.convert_to_tensor(Z, dtype=tf.float32)\n",
    "y = tf.convert_to_tensor(y, dtype=tf.float32)\n",
    "\n",
    "# randomly initialize model parameters\n",
    "W_input_hidden = tf.Variable(rng.randn(Z.shape[1], n_hidden), dtype=tf.float32) \n",
    "W_hidden_output = tf.Variable(rng.randn(n_hidden, 1), dtype=tf.float32)\n",
    "b_hidden = tf.Variable(rng.randn(n_hidden), dtype=tf.float32)\n",
    "b_output = tf.Variable(rng.randn(1), dtype=tf.float32)\n",
    "variables = [W_input_hidden, W_hidden_output, b_hidden, b_output]\n",
    "\n",
    "# create optimizer\n",
    "optimizer = tf.keras.optimizers.Adam(learning_rate=eta)\n",
    "\n",
    "# repeat N times\n",
    "N = 100\n",
    "for i in range(N):\n",
    "    \n",
    "    with tf.GradientTape() as gt:\n",
    "        \n",
    "        # forward computation\n",
    "        hidden_activation = tf.tanh(b_hidden + tf.matmul(Z, W_input_hidden))\n",
    "        pi = tf.sigmoid(b_output + tf.matmul(hidden_activation, W_hidden_output))\n",
    "       \n",
    "        # loss\n",
    "        xe_loss = -tf.reduce_mean( y * tf.math.log(pi) + (1-y) * tf.math.log(1-pi) )\n",
    "        \n",
    "        #print(\"LOSS: %0.4f\" % (xe_loss.numpy()))\n",
    "    # compute gradient of loss with respect to parameters\n",
    "    # calculus NOT required!\n",
    "    gradients = gt.gradient(xe_loss, variables)\n",
    "    \n",
    "    # update the parameters\n",
    "    # this takes a list where each element is a tuple\n",
    "    # of (gradient, corresponding parameter)\n",
    "    optimizer.apply_gradients(zip(gradients, variables))\n",
    "\n",
    "# report results\n",
    "hidden_activation = tf.tanh(b_hidden + tf.matmul(Z, W_input_hidden))\n",
    "pi = tf.sigmoid(b_output + tf.matmul(hidden_activation, W_hidden_output))\n",
    "xe_loss = -tf.reduce_mean( y * tf.math.log(pi) + (1-y) * tf.math.log(1-pi) )\n",
    "print(\"Final XE: %0.4f\" % xe_loss.numpy())\n",
    "\n",
    "# report results\n",
    "pi = pi.numpy()\n",
    "pred_1 = pi > 0.5\n",
    "acc = np.mean(y.numpy() == pred_1)\n",
    "print(\"Accuracy: %0.2f\" % acc)\n",
    "\n",
    "auc_roc = sklearn.metrics.roc_auc_score(y, pi)\n",
    "print(\"AUC-ROC: %0.2f\" % auc_roc)\n"
   ]
  },
  {
   "cell_type": "code",
   "execution_count": 198,
   "id": "ce84beca-e036-4d71-bcfd-27e58893d5ae",
   "metadata": {},
   "outputs": [
    {
     "data": {
      "text/plain": [
       "<matplotlib.collections.PathCollection at 0x26920bf1c10>"
      ]
     },
     "execution_count": 198,
     "metadata": {},
     "output_type": "execute_result"
    },
    {
     "data": {
      "image/png": "[encoded data removed]",
      "text/plain": [
       "<Figure size 864x720 with 2 Axes>"
      ]
     },
     "metadata": {
      "needs_background": "light"
     },
     "output_type": "display_data"
    }
   ],
   "source": [
    "f, ax = plt.subplots(1, 1, figsize=(12, 10))\n",
    "\n",
    "class0_ix = y[:,0] == 0\n",
    "class1_ix = y[:,0]== 1\n",
    "\n",
    "Z_np = Z.numpy()\n",
    "\n",
    "# initialize range of input values\n",
    "K = 100\n",
    "xs = np.linspace(-3, 3, K)\n",
    "x1s, x2s = np.meshgrid(xs, xs)\n",
    "\n",
    "# zip the inputs up into a (K*K, 2) array\n",
    "Xstar = np.vstack((x1s.flatten(), x2s.flatten())).T\n",
    "Xstar = tf.convert_to_tensor(Xstar, dtype=tf.float32)\n",
    "\n",
    "# predict\n",
    "hidden_activation = tf.tanh(b_hidden + tf.matmul(Xstar, W_input_hidden))\n",
    "pi_star = tf.sigmoid(b_output + tf.matmul(hidden_activation, W_hidden_output))\n",
    "\n",
    "# plot\n",
    "pi_star = pi_star.numpy().reshape((K, K))\n",
    "cp = ax.contourf(x1s, x2s, pi_star, cmap=plt.get_cmap('gist_gray'))\n",
    "f.colorbar(cp)\n",
    "\n",
    "\n",
    "ax.scatter(Z_np[class0_ix, 0], Z_np[class0_ix, 1])\n",
    "ax.scatter(Z_np[class1_ix, 0], Z_np[class1_ix, 1], color='orange')\n"
   ]
  },
  {
   "cell_type": "code",
   "execution_count": null,
   "id": "d44b132c-74ec-4227-bd60-86e0f3377cd8",
   "metadata": {},
   "outputs": [],
   "source": []
  }
 ],
 "metadata": {
  "kernelspec": {
   "display_name": "Python 3 (ipykernel)",
   "language": "python",
   "name": "python3"
  },
  "language_info": {
   "codemirror_mode": {
    "name": "ipython",
    "version": 3
   },
   "file_extension": ".py",
   "mimetype": "text/x-python",
   "name": "python",
   "nbconvert_exporter": "python",
   "pygments_lexer": "ipython3",
   "version": "3.8.12"
  }
 },
 "nbformat": 4,
 "nbformat_minor": 5
}
