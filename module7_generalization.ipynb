{
 "cells": [
  {
   "cell_type": "markdown",
   "metadata": {},
   "source": [
    "# Module 7: Generalization Performance \n",
    "\n",
    "* Consider the fit of the following three models (red lines) to the blue circles\n",
    "\n",
    "![alt text](figures/gen_training.jpg)\n",
    "\n",
    "* The middle model has the smallest MSE and it looks to be the most complex\n",
    "\n",
    "* But, look at what happens when we measure MSE on data points the models have not been trained on:\n",
    "\n",
    "![alt text](figures/gen_testing.jpg)\n",
    "\n",
    "* The most complex model has the worst MSE on unseen data, despite having the best MSE on the training data\n",
    "\n",
    "* We say that the model has _overfitted_ to the training dataset: it mistook noise for an actual signal.\n",
    "\n",
    "* This is why we _must_ evaluate our models on data the model has not been trained on\n",
    "\n",
    "## Tracking Training and Testing Performance\n",
    "\n",
    "* Before we do that, lets see how our neural network models can overfit. \n",
    "\n",
    "* We'll take this opportuntiy to introduce a high-level framework called Keras. Keras sits on top of tensorflow and makes building, training, and running common neural networks much easier.\n",
    "\n",
    "* We'll withhold 20% of the data for testing and plot how the loss on training and testing changes over time.\n"
   ]
  },
  {
   "cell_type": "code",
   "execution_count": 53,
   "metadata": {},
   "outputs": [],
   "source": [
    "# necessary imports\n",
    "import numpy as np\n",
    "import numpy.random as rng \n",
    "import tensorflow as tf\n",
    "import matplotlib.pyplot as plt \n",
    "import sklearn.metrics\n",
    "import tensorflow.keras as keras\n",
    "import tensorflow.keras.layers as layers\n",
    "from tensorflow.keras.utils import to_categorical\n",
    "import scipy.stats"
   ]
  },
  {
   "cell_type": "code",
   "execution_count": 54,
   "metadata": {},
   "outputs": [],
   "source": [
    "data = np.load('data/multiclass_classification_hard.npz')\n",
    "X, y = data['X'], data['y']\n",
    "\n",
    "# shuffle order\n",
    "ix = rng.permutation(X.shape[0])\n",
    "X = X[ix, :]\n",
    "y = to_categorical(y[ix, :])"
   ]
  },
  {
   "cell_type": "code",
   "execution_count": 55,
   "metadata": {},
   "outputs": [
    {
     "name": "stdout",
     "output_type": "stream",
     "text": [
      "Model: \"model_9\"\n",
      "_________________________________________________________________\n",
      "Layer (type)                 Output Shape              Param #   \n",
      "=================================================================\n",
      "input_10 (InputLayer)        [(None, 12)]              0         \n",
      "_________________________________________________________________\n",
      "dense_18 (Dense)             (None, 30)                390       \n",
      "_________________________________________________________________\n",
      "dense_19 (Dense)             (None, 6)                 186       \n",
      "=================================================================\n",
      "Total params: 576\n",
      "Trainable params: 576\n",
      "Non-trainable params: 0\n",
      "_________________________________________________________________\n",
      "None\n"
     ]
    }
   ],
   "source": [
    "# number of hidden units\n",
    "n_hidden = 30\n",
    "\n",
    "# notice that we don't specify the first dimension in the input \n",
    "# shape, Keras infers that automatically\n",
    "# the trailing comma is important! don't forget it\n",
    "input_node = layers.Input(shape=(X.shape[1],))\n",
    "hidden_layer = layers.Dense(n_hidden, activation='tanh')(input_node)\n",
    "output_node = layers.Dense(y.shape[1], activation='softmax')(hidden_layer)\n",
    "model = keras.models.Model(inputs=input_node, outputs=output_node)\n",
    "model.compile('sgd', 'categorical_crossentropy', metrics=['acc'])\n",
    "print(model.summary())"
   ]
  },
  {
   "cell_type": "code",
   "execution_count": 56,
   "metadata": {},
   "outputs": [
    {
     "name": "stdout",
     "output_type": "stream",
     "text": [
      "Epoch 1/100\n",
      " 38/160 [======>.......................] - ETA: 0s - loss: 1.6091 - acc: 0.3789   "
     ]
    },
    {
     "name": "stderr",
     "output_type": "stream",
     "text": [
      "2021-12-03 15:36:04.846790: I tensorflow/core/grappler/optimizers/custom_graph_optimizer_registry.cc:112] Plugin optimizer for device_type GPU is enabled.\n"
     ]
    },
    {
     "name": "stdout",
     "output_type": "stream",
     "text": [
      "160/160 [==============================] - 1s 5ms/step - loss: 1.1318 - acc: 0.5800 - val_loss: 0.8880 - val_acc: 0.6900\n",
      "Epoch 2/100\n",
      " 13/160 [=>............................] - ETA: 0s - loss: 0.6480 - acc: 0.8154"
     ]
    },
    {
     "name": "stderr",
     "output_type": "stream",
     "text": [
      "2021-12-03 15:36:05.572459: I tensorflow/core/grappler/optimizers/custom_graph_optimizer_registry.cc:112] Plugin optimizer for device_type GPU is enabled.\n"
     ]
    },
    {
     "name": "stdout",
     "output_type": "stream",
     "text": [
      "160/160 [==============================] - 1s 5ms/step - loss: 0.6948 - acc: 0.7637 - val_loss: 0.7467 - val_acc: 0.7250\n",
      "Epoch 3/100\n",
      "160/160 [==============================] - 1s 5ms/step - loss: 0.5861 - acc: 0.8087 - val_loss: 0.6675 - val_acc: 0.7550\n",
      "Epoch 4/100\n",
      "160/160 [==============================] - 1s 5ms/step - loss: 0.5227 - acc: 0.8225 - val_loss: 0.6191 - val_acc: 0.7650\n",
      "Epoch 5/100\n",
      "160/160 [==============================] - 1s 5ms/step - loss: 0.4771 - acc: 0.8512 - val_loss: 0.5829 - val_acc: 0.7700\n",
      "Epoch 6/100\n",
      "160/160 [==============================] - 1s 5ms/step - loss: 0.4434 - acc: 0.8625 - val_loss: 0.5530 - val_acc: 0.7950\n",
      "Epoch 7/100\n",
      "160/160 [==============================] - 1s 5ms/step - loss: 0.4149 - acc: 0.8787 - val_loss: 0.5255 - val_acc: 0.8000\n",
      "Epoch 8/100\n",
      "160/160 [==============================] - 1s 5ms/step - loss: 0.3908 - acc: 0.8762 - val_loss: 0.5038 - val_acc: 0.8000\n",
      "Epoch 9/100\n",
      "160/160 [==============================] - 1s 5ms/step - loss: 0.3686 - acc: 0.8887 - val_loss: 0.4807 - val_acc: 0.8250\n",
      "Epoch 10/100\n",
      "160/160 [==============================] - 1s 5ms/step - loss: 0.3506 - acc: 0.8925 - val_loss: 0.4613 - val_acc: 0.8250\n",
      "Epoch 11/100\n",
      "160/160 [==============================] - 1s 5ms/step - loss: 0.3336 - acc: 0.8988 - val_loss: 0.4424 - val_acc: 0.8500\n",
      "Epoch 12/100\n",
      "160/160 [==============================] - 1s 5ms/step - loss: 0.3189 - acc: 0.9025 - val_loss: 0.4289 - val_acc: 0.8300\n",
      "Epoch 13/100\n",
      "160/160 [==============================] - 1s 5ms/step - loss: 0.3045 - acc: 0.9062 - val_loss: 0.4156 - val_acc: 0.8500\n",
      "Epoch 14/100\n",
      "160/160 [==============================] - 1s 5ms/step - loss: 0.2932 - acc: 0.9112 - val_loss: 0.4031 - val_acc: 0.8600\n",
      "Epoch 15/100\n",
      "160/160 [==============================] - 1s 5ms/step - loss: 0.2814 - acc: 0.9175 - val_loss: 0.3887 - val_acc: 0.8700\n",
      "Epoch 16/100\n",
      "160/160 [==============================] - 1s 5ms/step - loss: 0.2727 - acc: 0.9212 - val_loss: 0.3819 - val_acc: 0.8600\n",
      "Epoch 17/100\n",
      "160/160 [==============================] - 1s 5ms/step - loss: 0.2635 - acc: 0.9212 - val_loss: 0.3714 - val_acc: 0.8650\n",
      "Epoch 18/100\n",
      "160/160 [==============================] - 1s 5ms/step - loss: 0.2551 - acc: 0.9175 - val_loss: 0.3641 - val_acc: 0.8650\n",
      "Epoch 19/100\n",
      "160/160 [==============================] - 1s 5ms/step - loss: 0.2455 - acc: 0.9187 - val_loss: 0.3572 - val_acc: 0.8850\n",
      "Epoch 20/100\n",
      "160/160 [==============================] - 1s 5ms/step - loss: 0.2393 - acc: 0.9237 - val_loss: 0.3534 - val_acc: 0.8700\n",
      "Epoch 21/100\n",
      "160/160 [==============================] - 1s 5ms/step - loss: 0.2328 - acc: 0.9250 - val_loss: 0.3423 - val_acc: 0.8850\n",
      "Epoch 22/100\n",
      "160/160 [==============================] - 1s 5ms/step - loss: 0.2256 - acc: 0.9287 - val_loss: 0.3386 - val_acc: 0.8950\n",
      "Epoch 23/100\n",
      "160/160 [==============================] - 1s 5ms/step - loss: 0.2200 - acc: 0.9337 - val_loss: 0.3347 - val_acc: 0.8850\n",
      "Epoch 24/100\n",
      "160/160 [==============================] - 1s 5ms/step - loss: 0.2140 - acc: 0.9300 - val_loss: 0.3256 - val_acc: 0.8900\n",
      "Epoch 25/100\n",
      "160/160 [==============================] - 1s 5ms/step - loss: 0.2089 - acc: 0.9275 - val_loss: 0.3178 - val_acc: 0.8850\n",
      "Epoch 26/100\n",
      "160/160 [==============================] - 1s 5ms/step - loss: 0.2049 - acc: 0.9325 - val_loss: 0.3177 - val_acc: 0.8900\n",
      "Epoch 27/100\n",
      "160/160 [==============================] - 1s 6ms/step - loss: 0.1993 - acc: 0.9362 - val_loss: 0.3120 - val_acc: 0.8900\n",
      "Epoch 28/100\n",
      "160/160 [==============================] - 1s 7ms/step - loss: 0.1954 - acc: 0.9375 - val_loss: 0.3161 - val_acc: 0.8850\n",
      "Epoch 29/100\n",
      "160/160 [==============================] - 1s 6ms/step - loss: 0.1914 - acc: 0.9375 - val_loss: 0.3161 - val_acc: 0.8750\n",
      "Epoch 30/100\n",
      "160/160 [==============================] - 1s 5ms/step - loss: 0.1871 - acc: 0.9375 - val_loss: 0.3064 - val_acc: 0.8950\n",
      "Epoch 31/100\n",
      "160/160 [==============================] - 1s 5ms/step - loss: 0.1828 - acc: 0.9387 - val_loss: 0.2945 - val_acc: 0.8900\n",
      "Epoch 32/100\n",
      "160/160 [==============================] - 1s 5ms/step - loss: 0.1805 - acc: 0.9400 - val_loss: 0.3039 - val_acc: 0.8900\n",
      "Epoch 33/100\n",
      "160/160 [==============================] - 1s 5ms/step - loss: 0.1778 - acc: 0.9362 - val_loss: 0.2957 - val_acc: 0.8950\n",
      "Epoch 34/100\n",
      "160/160 [==============================] - 1s 5ms/step - loss: 0.1741 - acc: 0.9400 - val_loss: 0.2980 - val_acc: 0.8900\n",
      "Epoch 35/100\n",
      "160/160 [==============================] - 1s 5ms/step - loss: 0.1708 - acc: 0.9425 - val_loss: 0.2944 - val_acc: 0.8850\n",
      "Epoch 36/100\n",
      "160/160 [==============================] - 1s 5ms/step - loss: 0.1677 - acc: 0.9437 - val_loss: 0.2924 - val_acc: 0.8950\n",
      "Epoch 37/100\n",
      "160/160 [==============================] - 1s 5ms/step - loss: 0.1661 - acc: 0.9437 - val_loss: 0.2962 - val_acc: 0.8900\n",
      "Epoch 38/100\n",
      "160/160 [==============================] - 1s 5ms/step - loss: 0.1619 - acc: 0.9475 - val_loss: 0.2993 - val_acc: 0.8750\n",
      "Epoch 39/100\n",
      "160/160 [==============================] - 1s 5ms/step - loss: 0.1608 - acc: 0.9525 - val_loss: 0.2972 - val_acc: 0.8750\n",
      "Epoch 40/100\n",
      "160/160 [==============================] - 1s 5ms/step - loss: 0.1560 - acc: 0.9550 - val_loss: 0.3056 - val_acc: 0.8700\n",
      "Epoch 41/100\n",
      "160/160 [==============================] - 1s 7ms/step - loss: 0.1566 - acc: 0.9487 - val_loss: 0.2914 - val_acc: 0.8900\n",
      "Epoch 42/100\n",
      "160/160 [==============================] - 1s 5ms/step - loss: 0.1536 - acc: 0.9462 - val_loss: 0.2912 - val_acc: 0.8850\n",
      "Epoch 43/100\n",
      "160/160 [==============================] - 1s 5ms/step - loss: 0.1521 - acc: 0.9512 - val_loss: 0.2957 - val_acc: 0.8800\n",
      "Epoch 44/100\n",
      "160/160 [==============================] - 1s 5ms/step - loss: 0.1492 - acc: 0.9512 - val_loss: 0.2876 - val_acc: 0.8950\n",
      "Epoch 45/100\n",
      "160/160 [==============================] - 1s 5ms/step - loss: 0.1472 - acc: 0.9550 - val_loss: 0.2868 - val_acc: 0.8950\n",
      "Epoch 46/100\n",
      "160/160 [==============================] - 1s 5ms/step - loss: 0.1438 - acc: 0.9537 - val_loss: 0.2915 - val_acc: 0.8900\n",
      "Epoch 47/100\n",
      "160/160 [==============================] - 1s 5ms/step - loss: 0.1440 - acc: 0.9562 - val_loss: 0.2929 - val_acc: 0.8850\n",
      "Epoch 48/100\n",
      "160/160 [==============================] - 1s 5ms/step - loss: 0.1406 - acc: 0.9613 - val_loss: 0.2806 - val_acc: 0.9000\n",
      "Epoch 49/100\n",
      "160/160 [==============================] - 1s 5ms/step - loss: 0.1400 - acc: 0.9575 - val_loss: 0.2778 - val_acc: 0.8950\n",
      "Epoch 50/100\n",
      "160/160 [==============================] - 1s 5ms/step - loss: 0.1398 - acc: 0.9550 - val_loss: 0.2869 - val_acc: 0.9000\n",
      "Epoch 51/100\n",
      "160/160 [==============================] - 1s 5ms/step - loss: 0.1371 - acc: 0.9613 - val_loss: 0.2838 - val_acc: 0.9050\n",
      "Epoch 52/100\n",
      "160/160 [==============================] - 1s 5ms/step - loss: 0.1353 - acc: 0.9600 - val_loss: 0.2834 - val_acc: 0.9050\n",
      "Epoch 53/100\n",
      "160/160 [==============================] - 1s 5ms/step - loss: 0.1337 - acc: 0.9575 - val_loss: 0.2864 - val_acc: 0.9050\n",
      "Epoch 54/100\n",
      "160/160 [==============================] - 1s 5ms/step - loss: 0.1314 - acc: 0.9613 - val_loss: 0.2929 - val_acc: 0.8850\n",
      "Epoch 55/100\n",
      "160/160 [==============================] - 1s 5ms/step - loss: 0.1311 - acc: 0.9587 - val_loss: 0.2946 - val_acc: 0.8800\n",
      "Epoch 56/100\n",
      "160/160 [==============================] - 1s 5ms/step - loss: 0.1291 - acc: 0.9625 - val_loss: 0.2866 - val_acc: 0.9050\n",
      "Epoch 57/100\n",
      "160/160 [==============================] - 1s 5ms/step - loss: 0.1273 - acc: 0.9575 - val_loss: 0.2837 - val_acc: 0.8950\n",
      "Epoch 58/100\n",
      "160/160 [==============================] - 1s 5ms/step - loss: 0.1266 - acc: 0.9613 - val_loss: 0.2887 - val_acc: 0.8950\n",
      "Epoch 59/100\n",
      "160/160 [==============================] - 1s 5ms/step - loss: 0.1247 - acc: 0.9587 - val_loss: 0.2812 - val_acc: 0.8950\n",
      "Epoch 60/100\n",
      "160/160 [==============================] - 1s 6ms/step - loss: 0.1231 - acc: 0.9625 - val_loss: 0.2982 - val_acc: 0.8850\n",
      "Epoch 61/100\n",
      "160/160 [==============================] - 1s 7ms/step - loss: 0.1221 - acc: 0.9625 - val_loss: 0.2922 - val_acc: 0.8900\n",
      "Epoch 62/100\n",
      "160/160 [==============================] - 1s 6ms/step - loss: 0.1213 - acc: 0.9638 - val_loss: 0.2978 - val_acc: 0.8800\n",
      "Epoch 63/100\n",
      "160/160 [==============================] - 1s 5ms/step - loss: 0.1200 - acc: 0.9600 - val_loss: 0.2885 - val_acc: 0.8900\n",
      "Epoch 64/100\n",
      "160/160 [==============================] - 1s 5ms/step - loss: 0.1178 - acc: 0.9625 - val_loss: 0.2839 - val_acc: 0.8900\n",
      "Epoch 65/100\n",
      "160/160 [==============================] - 1s 5ms/step - loss: 0.1161 - acc: 0.9675 - val_loss: 0.2867 - val_acc: 0.8850\n",
      "Epoch 66/100\n",
      "160/160 [==============================] - 1s 5ms/step - loss: 0.1152 - acc: 0.9688 - val_loss: 0.2876 - val_acc: 0.8950\n",
      "Epoch 67/100\n",
      "160/160 [==============================] - 1s 5ms/step - loss: 0.1144 - acc: 0.9663 - val_loss: 0.3035 - val_acc: 0.8850\n",
      "Epoch 68/100\n",
      "160/160 [==============================] - 1s 5ms/step - loss: 0.1131 - acc: 0.9663 - val_loss: 0.3040 - val_acc: 0.8800\n",
      "Epoch 69/100\n",
      "160/160 [==============================] - 1s 5ms/step - loss: 0.1118 - acc: 0.9700 - val_loss: 0.2909 - val_acc: 0.9000\n",
      "Epoch 70/100\n",
      "160/160 [==============================] - 1s 5ms/step - loss: 0.1099 - acc: 0.9663 - val_loss: 0.2873 - val_acc: 0.8900\n",
      "Epoch 71/100\n",
      "160/160 [==============================] - 1s 5ms/step - loss: 0.1097 - acc: 0.9688 - val_loss: 0.2972 - val_acc: 0.8800\n",
      "Epoch 72/100\n",
      "160/160 [==============================] - 1s 5ms/step - loss: 0.1087 - acc: 0.9675 - val_loss: 0.2886 - val_acc: 0.8900\n",
      "Epoch 73/100\n",
      "160/160 [==============================] - 1s 5ms/step - loss: 0.1051 - acc: 0.9725 - val_loss: 0.2819 - val_acc: 0.8800\n",
      "Epoch 74/100\n",
      "160/160 [==============================] - 1s 5ms/step - loss: 0.1067 - acc: 0.9688 - val_loss: 0.2879 - val_acc: 0.8900\n",
      "Epoch 75/100\n",
      "160/160 [==============================] - 1s 5ms/step - loss: 0.1055 - acc: 0.9675 - val_loss: 0.2916 - val_acc: 0.8850\n",
      "Epoch 76/100\n",
      "160/160 [==============================] - 1s 5ms/step - loss: 0.1036 - acc: 0.9700 - val_loss: 0.3070 - val_acc: 0.8750\n",
      "Epoch 77/100\n",
      "160/160 [==============================] - 1s 5ms/step - loss: 0.1023 - acc: 0.9737 - val_loss: 0.2952 - val_acc: 0.8800\n",
      "Epoch 78/100\n",
      "160/160 [==============================] - 1s 5ms/step - loss: 0.1016 - acc: 0.9700 - val_loss: 0.3067 - val_acc: 0.8800\n",
      "Epoch 79/100\n",
      "160/160 [==============================] - 1s 5ms/step - loss: 0.1009 - acc: 0.9688 - val_loss: 0.3106 - val_acc: 0.8750\n",
      "Epoch 80/100\n",
      "160/160 [==============================] - 1s 5ms/step - loss: 0.0998 - acc: 0.9712 - val_loss: 0.2967 - val_acc: 0.8750\n",
      "Epoch 81/100\n",
      "160/160 [==============================] - 1s 5ms/step - loss: 0.0979 - acc: 0.9725 - val_loss: 0.2995 - val_acc: 0.8800\n",
      "Epoch 82/100\n",
      "160/160 [==============================] - 1s 5ms/step - loss: 0.0968 - acc: 0.9737 - val_loss: 0.2904 - val_acc: 0.8750\n",
      "Epoch 83/100\n",
      "160/160 [==============================] - 1s 5ms/step - loss: 0.0957 - acc: 0.9737 - val_loss: 0.3273 - val_acc: 0.8550\n",
      "Epoch 84/100\n",
      "160/160 [==============================] - 1s 5ms/step - loss: 0.0931 - acc: 0.9787 - val_loss: 0.2871 - val_acc: 0.8750\n",
      "Epoch 85/100\n",
      "160/160 [==============================] - 1s 5ms/step - loss: 0.0946 - acc: 0.9762 - val_loss: 0.2982 - val_acc: 0.8750\n",
      "Epoch 86/100\n",
      "160/160 [==============================] - 1s 5ms/step - loss: 0.0927 - acc: 0.9762 - val_loss: 0.3189 - val_acc: 0.8700\n",
      "Epoch 87/100\n",
      "160/160 [==============================] - 1s 5ms/step - loss: 0.0906 - acc: 0.9762 - val_loss: 0.2968 - val_acc: 0.8750\n",
      "Epoch 88/100\n",
      "160/160 [==============================] - 1s 5ms/step - loss: 0.0918 - acc: 0.9762 - val_loss: 0.3051 - val_acc: 0.8750\n",
      "Epoch 89/100\n",
      "160/160 [==============================] - 1s 5ms/step - loss: 0.0899 - acc: 0.9787 - val_loss: 0.2975 - val_acc: 0.8700\n",
      "Epoch 90/100\n",
      "160/160 [==============================] - 1s 5ms/step - loss: 0.0894 - acc: 0.9800 - val_loss: 0.3110 - val_acc: 0.8750\n",
      "Epoch 91/100\n",
      "160/160 [==============================] - 1s 5ms/step - loss: 0.0881 - acc: 0.9775 - val_loss: 0.3177 - val_acc: 0.8700\n",
      "Epoch 92/100\n",
      "160/160 [==============================] - 1s 5ms/step - loss: 0.0877 - acc: 0.9800 - val_loss: 0.3082 - val_acc: 0.8750\n",
      "Epoch 93/100\n",
      "160/160 [==============================] - 1s 5ms/step - loss: 0.0862 - acc: 0.9787 - val_loss: 0.3036 - val_acc: 0.8650\n",
      "Epoch 94/100\n",
      "160/160 [==============================] - 1s 5ms/step - loss: 0.0853 - acc: 0.9787 - val_loss: 0.3095 - val_acc: 0.8650\n",
      "Epoch 95/100\n",
      "160/160 [==============================] - 1s 5ms/step - loss: 0.0847 - acc: 0.9787 - val_loss: 0.3206 - val_acc: 0.8700\n",
      "Epoch 96/100\n",
      "160/160 [==============================] - 1s 5ms/step - loss: 0.0841 - acc: 0.9812 - val_loss: 0.3125 - val_acc: 0.8650\n",
      "Epoch 97/100\n",
      "160/160 [==============================] - 1s 5ms/step - loss: 0.0827 - acc: 0.9812 - val_loss: 0.3021 - val_acc: 0.8650\n",
      "Epoch 98/100\n",
      "160/160 [==============================] - 1s 5ms/step - loss: 0.0820 - acc: 0.9812 - val_loss: 0.3062 - val_acc: 0.8600\n",
      "Epoch 99/100\n",
      "160/160 [==============================] - 1s 5ms/step - loss: 0.0811 - acc: 0.9800 - val_loss: 0.3071 - val_acc: 0.8600\n",
      "Epoch 100/100\n",
      "160/160 [==============================] - 1s 5ms/step - loss: 0.0792 - acc: 0.9850 - val_loss: 0.3298 - val_acc: 0.8550\n"
     ]
    }
   ],
   "source": [
    "# train the model\n",
    "h = model.fit(x = X, y=y, verbose=True, validation_split=0.2, epochs=100, batch_size=5)"
   ]
  },
  {
   "cell_type": "code",
   "execution_count": 59,
   "metadata": {},
   "outputs": [
    {
     "data": {
      "text/plain": [
       "(0.0, 0.6)"
      ]
     },
     "execution_count": 59,
     "metadata": {},
     "output_type": "execute_result"
    },
    {
     "data": {
      "image/png": "[encoded data removed]",
      "text/plain": [
       "<Figure size 720x360 with 1 Axes>"
      ]
     },
     "metadata": {
      "needs_background": "light"
     },
     "output_type": "display_data"
    }
   ],
   "source": [
    "f, ax = plt.subplots(1, 1, figsize=(10, 5))\n",
    "ax.plot(h.history['loss'], linewidth=2)\n",
    "ax.plot(h.history['val_loss'], linewidth=2)\n",
    "ax.set_title('Model Loss')\n",
    "ax.set_ylabel('Loss')\n",
    "ax.set_xlabel('Epoch')\n",
    "ax.legend(['Train', 'Test'], loc='upper left')\n",
    "ax.set_ylim([0, 0.6])"
   ]
  },
  {
   "cell_type": "markdown",
   "metadata": {},
   "source": [
    "* Notice how, initially, both training and testing losses decrease but then as the training loss continues decreasing, the testing loss starts increasing!"
   ]
  },
  {
   "cell_type": "code",
   "execution_count": 60,
   "metadata": {},
   "outputs": [
    {
     "data": {
      "text/plain": [
       "(0.8, 1.0)"
      ]
     },
     "execution_count": 60,
     "metadata": {},
     "output_type": "execute_result"
    },
    {
     "data": {
      "image/png": "[encoded data removed]",
      "text/plain": [
       "<Figure size 720x360 with 1 Axes>"
      ]
     },
     "metadata": {
      "needs_background": "light"
     },
     "output_type": "display_data"
    }
   ],
   "source": [
    "f, ax = plt.subplots(1, 1, figsize=(10, 5))\n",
    "ax.plot(h.history['acc'], linewidth=2)\n",
    "ax.plot(h.history['val_acc'], linewidth=2)\n",
    "ax.set_title('Model Accuracy')\n",
    "ax.set_ylabel('Loss')\n",
    "ax.set_xlabel('Epoch')\n",
    "ax.legend(['Train', 'Test'], loc='upper left')\n",
    "ax.set_ylim([0.8, 1.0])"
   ]
  },
  {
   "cell_type": "markdown",
   "metadata": {},
   "source": [
    "## Fighting Overfitting: Dropout\n",
    "\n",
    "* With dropout, neurons are randomly \"turned-off\" with some probability $p$.\n",
    "* The theory behind dropout is that it encourages neurons to specialize and not rely on other neurons\n",
    "* Special care has to be taken when using dropout because it changes the expected value of the output of the neurons\n",
    "* Fortunately, Keras takes care of this detail for us\n",
    "* Let's add dropout to our earlier example"
   ]
  },
  {
   "cell_type": "code",
   "execution_count": 26,
   "metadata": {},
   "outputs": [
    {
     "name": "stdout",
     "output_type": "stream",
     "text": [
      "Model: \"model_3\"\n",
      "_________________________________________________________________\n",
      "Layer (type)                 Output Shape              Param #   \n",
      "=================================================================\n",
      "input_4 (InputLayer)         [(None, 12)]              0         \n",
      "_________________________________________________________________\n",
      "dense_6 (Dense)              (None, 30)                390       \n",
      "_________________________________________________________________\n",
      "dropout (Dropout)            (None, 30)                0         \n",
      "_________________________________________________________________\n",
      "dense_7 (Dense)              (None, 6)                 186       \n",
      "=================================================================\n",
      "Total params: 576\n",
      "Trainable params: 576\n",
      "Non-trainable params: 0\n",
      "_________________________________________________________________\n",
      "None\n"
     ]
    }
   ],
   "source": [
    "# number of hidden units\n",
    "n_hidden = 30\n",
    "dropout_p = 0.5\n",
    "\n",
    "input_node = layers.Input(shape=(X.shape[1],))\n",
    "hidden_layer = layers.Dense(n_hidden, activation='tanh')(input_node)\n",
    "hidden_layer = layers.Dropout(rate=dropout_p)(hidden_layer)\n",
    "output_node = layers.Dense(y.shape[1], activation='softmax')(hidden_layer)\n",
    "model = keras.models.Model(inputs=input_node, outputs=output_node)\n",
    "model.compile('sgd', 'categorical_crossentropy', metrics=['acc'])\n",
    "print(model.summary())"
   ]
  },
  {
   "cell_type": "code",
   "execution_count": 27,
   "metadata": {},
   "outputs": [
    {
     "name": "stdout",
     "output_type": "stream",
     "text": [
      "Epoch 1/100\n",
      " 23/160 [===>..........................] - ETA: 0s - loss: 2.2471 - acc: 0.1913    "
     ]
    },
    {
     "name": "stderr",
     "output_type": "stream",
     "text": [
      "2021-12-03 13:49:22.858178: I tensorflow/core/grappler/optimizers/custom_graph_optimizer_registry.cc:112] Plugin optimizer for device_type GPU is enabled.\n"
     ]
    },
    {
     "name": "stdout",
     "output_type": "stream",
     "text": [
      "160/160 [==============================] - 1s 6ms/step - loss: 1.4253 - acc: 0.4512 - val_loss: 0.8403 - val_acc: 0.7000\n",
      "Epoch 2/100\n",
      " 12/160 [=>............................] - ETA: 0s - loss: 0.9836 - acc: 0.6333"
     ]
    },
    {
     "name": "stderr",
     "output_type": "stream",
     "text": [
      "2021-12-03 13:49:23.660858: I tensorflow/core/grappler/optimizers/custom_graph_optimizer_registry.cc:112] Plugin optimizer for device_type GPU is enabled.\n"
     ]
    },
    {
     "name": "stdout",
     "output_type": "stream",
     "text": [
      "160/160 [==============================] - 1s 5ms/step - loss: 0.9291 - acc: 0.6312 - val_loss: 0.6748 - val_acc: 0.7550\n",
      "Epoch 3/100\n",
      "160/160 [==============================] - 1s 5ms/step - loss: 0.7681 - acc: 0.7138 - val_loss: 0.6202 - val_acc: 0.7850\n",
      "Epoch 4/100\n",
      "160/160 [==============================] - 1s 5ms/step - loss: 0.7012 - acc: 0.7337 - val_loss: 0.5627 - val_acc: 0.8050\n",
      "Epoch 5/100\n",
      "160/160 [==============================] - 1s 5ms/step - loss: 0.6591 - acc: 0.7487 - val_loss: 0.5427 - val_acc: 0.8050\n",
      "Epoch 6/100\n",
      "160/160 [==============================] - 1s 5ms/step - loss: 0.6038 - acc: 0.7862 - val_loss: 0.5075 - val_acc: 0.8200\n",
      "Epoch 7/100\n",
      "160/160 [==============================] - 1s 5ms/step - loss: 0.5919 - acc: 0.7887 - val_loss: 0.4894 - val_acc: 0.8200\n",
      "Epoch 8/100\n",
      "160/160 [==============================] - 1s 5ms/step - loss: 0.5658 - acc: 0.7937 - val_loss: 0.4611 - val_acc: 0.8300\n",
      "Epoch 9/100\n",
      "160/160 [==============================] - 1s 5ms/step - loss: 0.5490 - acc: 0.7975 - val_loss: 0.4404 - val_acc: 0.8200\n",
      "Epoch 10/100\n",
      "160/160 [==============================] - 1s 5ms/step - loss: 0.4949 - acc: 0.8162 - val_loss: 0.4243 - val_acc: 0.8500\n",
      "Epoch 11/100\n",
      "160/160 [==============================] - 1s 5ms/step - loss: 0.4891 - acc: 0.8262 - val_loss: 0.4278 - val_acc: 0.8300\n",
      "Epoch 12/100\n",
      "160/160 [==============================] - 1s 5ms/step - loss: 0.4595 - acc: 0.8312 - val_loss: 0.4109 - val_acc: 0.8500\n",
      "Epoch 13/100\n",
      "160/160 [==============================] - 1s 5ms/step - loss: 0.4789 - acc: 0.8262 - val_loss: 0.4215 - val_acc: 0.8350\n",
      "Epoch 14/100\n",
      "160/160 [==============================] - 1s 5ms/step - loss: 0.4785 - acc: 0.8287 - val_loss: 0.4036 - val_acc: 0.8450\n",
      "Epoch 15/100\n",
      "160/160 [==============================] - 1s 5ms/step - loss: 0.4734 - acc: 0.8287 - val_loss: 0.3941 - val_acc: 0.8600\n",
      "Epoch 16/100\n",
      "160/160 [==============================] - 1s 5ms/step - loss: 0.4589 - acc: 0.8262 - val_loss: 0.3728 - val_acc: 0.8600\n",
      "Epoch 17/100\n",
      "160/160 [==============================] - 1s 6ms/step - loss: 0.4345 - acc: 0.8612 - val_loss: 0.3836 - val_acc: 0.8550\n",
      "Epoch 18/100\n",
      "160/160 [==============================] - 1s 5ms/step - loss: 0.4105 - acc: 0.8562 - val_loss: 0.3668 - val_acc: 0.8650\n",
      "Epoch 19/100\n",
      "160/160 [==============================] - 1s 5ms/step - loss: 0.4443 - acc: 0.8425 - val_loss: 0.3650 - val_acc: 0.8550\n",
      "Epoch 20/100\n",
      "160/160 [==============================] - 1s 5ms/step - loss: 0.4254 - acc: 0.8400 - val_loss: 0.3428 - val_acc: 0.8600\n",
      "Epoch 21/100\n",
      "160/160 [==============================] - 1s 6ms/step - loss: 0.4216 - acc: 0.8413 - val_loss: 0.3487 - val_acc: 0.8600\n",
      "Epoch 22/100\n",
      "160/160 [==============================] - 1s 5ms/step - loss: 0.4128 - acc: 0.8537 - val_loss: 0.3443 - val_acc: 0.8650\n",
      "Epoch 23/100\n",
      "160/160 [==============================] - 1s 5ms/step - loss: 0.3977 - acc: 0.8625 - val_loss: 0.3366 - val_acc: 0.8650\n",
      "Epoch 24/100\n",
      "160/160 [==============================] - 1s 5ms/step - loss: 0.3839 - acc: 0.8625 - val_loss: 0.3250 - val_acc: 0.8850\n",
      "Epoch 25/100\n",
      "160/160 [==============================] - 1s 6ms/step - loss: 0.3962 - acc: 0.8512 - val_loss: 0.3174 - val_acc: 0.8750\n",
      "Epoch 26/100\n",
      "160/160 [==============================] - 1s 5ms/step - loss: 0.3689 - acc: 0.8687 - val_loss: 0.3250 - val_acc: 0.8650\n",
      "Epoch 27/100\n",
      "160/160 [==============================] - 1s 5ms/step - loss: 0.3678 - acc: 0.8762 - val_loss: 0.3190 - val_acc: 0.8750\n",
      "Epoch 28/100\n",
      "160/160 [==============================] - 1s 5ms/step - loss: 0.3903 - acc: 0.8550 - val_loss: 0.3128 - val_acc: 0.8850\n",
      "Epoch 29/100\n",
      "160/160 [==============================] - 1s 5ms/step - loss: 0.3666 - acc: 0.8675 - val_loss: 0.3085 - val_acc: 0.8950\n",
      "Epoch 30/100\n",
      "160/160 [==============================] - 1s 5ms/step - loss: 0.3695 - acc: 0.8675 - val_loss: 0.3022 - val_acc: 0.8900\n",
      "Epoch 31/100\n",
      "160/160 [==============================] - 1s 5ms/step - loss: 0.3659 - acc: 0.8612 - val_loss: 0.3071 - val_acc: 0.8850\n",
      "Epoch 32/100\n",
      "160/160 [==============================] - 1s 5ms/step - loss: 0.3689 - acc: 0.8612 - val_loss: 0.3054 - val_acc: 0.8900\n",
      "Epoch 33/100\n",
      "160/160 [==============================] - 1s 5ms/step - loss: 0.3354 - acc: 0.8812 - val_loss: 0.2956 - val_acc: 0.8900\n",
      "Epoch 34/100\n",
      "160/160 [==============================] - 1s 5ms/step - loss: 0.3534 - acc: 0.8775 - val_loss: 0.3002 - val_acc: 0.8850\n",
      "Epoch 35/100\n",
      "160/160 [==============================] - 1s 5ms/step - loss: 0.3422 - acc: 0.8825 - val_loss: 0.2840 - val_acc: 0.9050\n",
      "Epoch 36/100\n",
      "160/160 [==============================] - 1s 5ms/step - loss: 0.3494 - acc: 0.8837 - val_loss: 0.2900 - val_acc: 0.8950\n",
      "Epoch 37/100\n",
      "160/160 [==============================] - 1s 5ms/step - loss: 0.3502 - acc: 0.8787 - val_loss: 0.2878 - val_acc: 0.8900\n",
      "Epoch 38/100\n",
      "160/160 [==============================] - 1s 5ms/step - loss: 0.3611 - acc: 0.8662 - val_loss: 0.3041 - val_acc: 0.8850\n",
      "Epoch 39/100\n",
      "160/160 [==============================] - 1s 5ms/step - loss: 0.3579 - acc: 0.8637 - val_loss: 0.2871 - val_acc: 0.9050\n",
      "Epoch 40/100\n",
      "160/160 [==============================] - 1s 5ms/step - loss: 0.3376 - acc: 0.8850 - val_loss: 0.2878 - val_acc: 0.8900\n",
      "Epoch 41/100\n",
      "160/160 [==============================] - 1s 5ms/step - loss: 0.3458 - acc: 0.8762 - val_loss: 0.2869 - val_acc: 0.8850\n",
      "Epoch 42/100\n",
      "160/160 [==============================] - 1s 5ms/step - loss: 0.3268 - acc: 0.8875 - val_loss: 0.2882 - val_acc: 0.8900\n",
      "Epoch 43/100\n",
      "160/160 [==============================] - 1s 5ms/step - loss: 0.3073 - acc: 0.8950 - val_loss: 0.2685 - val_acc: 0.9050\n",
      "Epoch 44/100\n",
      "160/160 [==============================] - 1s 5ms/step - loss: 0.3243 - acc: 0.8800 - val_loss: 0.2840 - val_acc: 0.9050\n",
      "Epoch 45/100\n",
      "160/160 [==============================] - 1s 5ms/step - loss: 0.3171 - acc: 0.8925 - val_loss: 0.2921 - val_acc: 0.8950\n",
      "Epoch 46/100\n",
      "160/160 [==============================] - 1s 5ms/step - loss: 0.3477 - acc: 0.8675 - val_loss: 0.2729 - val_acc: 0.9050\n",
      "Epoch 47/100\n",
      "160/160 [==============================] - 1s 5ms/step - loss: 0.3285 - acc: 0.8750 - val_loss: 0.2855 - val_acc: 0.8900\n",
      "Epoch 48/100\n",
      "160/160 [==============================] - 1s 5ms/step - loss: 0.3076 - acc: 0.8850 - val_loss: 0.2693 - val_acc: 0.9050\n",
      "Epoch 49/100\n",
      "160/160 [==============================] - 1s 5ms/step - loss: 0.3119 - acc: 0.8912 - val_loss: 0.2613 - val_acc: 0.9200\n",
      "Epoch 50/100\n",
      "160/160 [==============================] - 1s 5ms/step - loss: 0.2995 - acc: 0.8887 - val_loss: 0.2704 - val_acc: 0.9000\n",
      "Epoch 51/100\n",
      "160/160 [==============================] - 1s 5ms/step - loss: 0.2983 - acc: 0.8825 - val_loss: 0.2665 - val_acc: 0.8950\n",
      "Epoch 52/100\n",
      "160/160 [==============================] - 1s 5ms/step - loss: 0.3124 - acc: 0.8963 - val_loss: 0.2636 - val_acc: 0.8900\n",
      "Epoch 53/100\n",
      "160/160 [==============================] - 1s 5ms/step - loss: 0.3275 - acc: 0.8800 - val_loss: 0.2736 - val_acc: 0.8900\n",
      "Epoch 54/100\n",
      "160/160 [==============================] - 1s 5ms/step - loss: 0.3185 - acc: 0.8875 - val_loss: 0.2582 - val_acc: 0.9100\n",
      "Epoch 55/100\n",
      "160/160 [==============================] - 1s 5ms/step - loss: 0.2952 - acc: 0.9000 - val_loss: 0.2675 - val_acc: 0.8950\n",
      "Epoch 56/100\n",
      "160/160 [==============================] - 1s 5ms/step - loss: 0.3030 - acc: 0.8787 - val_loss: 0.2544 - val_acc: 0.9050\n",
      "Epoch 57/100\n",
      "160/160 [==============================] - 1s 5ms/step - loss: 0.3033 - acc: 0.8900 - val_loss: 0.2585 - val_acc: 0.8950\n",
      "Epoch 58/100\n",
      "160/160 [==============================] - 1s 5ms/step - loss: 0.3018 - acc: 0.8925 - val_loss: 0.2648 - val_acc: 0.8950\n",
      "Epoch 59/100\n",
      "160/160 [==============================] - 1s 5ms/step - loss: 0.2990 - acc: 0.8837 - val_loss: 0.2512 - val_acc: 0.9100\n",
      "Epoch 60/100\n",
      "160/160 [==============================] - 1s 5ms/step - loss: 0.2742 - acc: 0.9013 - val_loss: 0.2585 - val_acc: 0.8900\n",
      "Epoch 61/100\n",
      "160/160 [==============================] - 1s 5ms/step - loss: 0.2823 - acc: 0.8837 - val_loss: 0.2542 - val_acc: 0.8900\n",
      "Epoch 62/100\n",
      "160/160 [==============================] - 1s 5ms/step - loss: 0.3057 - acc: 0.8887 - val_loss: 0.2378 - val_acc: 0.9250\n",
      "Epoch 63/100\n",
      "160/160 [==============================] - 1s 5ms/step - loss: 0.3090 - acc: 0.8925 - val_loss: 0.2438 - val_acc: 0.9150\n",
      "Epoch 64/100\n",
      "160/160 [==============================] - 1s 5ms/step - loss: 0.3086 - acc: 0.8862 - val_loss: 0.2431 - val_acc: 0.9200\n",
      "Epoch 65/100\n",
      "160/160 [==============================] - 1s 5ms/step - loss: 0.3013 - acc: 0.8975 - val_loss: 0.2546 - val_acc: 0.9100\n",
      "Epoch 66/100\n",
      "160/160 [==============================] - 1s 5ms/step - loss: 0.3026 - acc: 0.8800 - val_loss: 0.2703 - val_acc: 0.8950\n",
      "Epoch 67/100\n",
      "160/160 [==============================] - 1s 5ms/step - loss: 0.2989 - acc: 0.8963 - val_loss: 0.2385 - val_acc: 0.9150\n",
      "Epoch 68/100\n",
      "160/160 [==============================] - 1s 5ms/step - loss: 0.2939 - acc: 0.8850 - val_loss: 0.2411 - val_acc: 0.9200\n",
      "Epoch 69/100\n",
      "160/160 [==============================] - 1s 5ms/step - loss: 0.2829 - acc: 0.8963 - val_loss: 0.2517 - val_acc: 0.9100\n",
      "Epoch 70/100\n",
      "160/160 [==============================] - 1s 5ms/step - loss: 0.2674 - acc: 0.8988 - val_loss: 0.2424 - val_acc: 0.9050\n",
      "Epoch 71/100\n",
      "160/160 [==============================] - 1s 5ms/step - loss: 0.2841 - acc: 0.8825 - val_loss: 0.2456 - val_acc: 0.9100\n",
      "Epoch 72/100\n",
      "160/160 [==============================] - 1s 5ms/step - loss: 0.2794 - acc: 0.8925 - val_loss: 0.2344 - val_acc: 0.9150\n",
      "Epoch 73/100\n",
      "160/160 [==============================] - 1s 5ms/step - loss: 0.2608 - acc: 0.9038 - val_loss: 0.2497 - val_acc: 0.9050\n",
      "Epoch 74/100\n",
      "160/160 [==============================] - 1s 5ms/step - loss: 0.2772 - acc: 0.8937 - val_loss: 0.2321 - val_acc: 0.9100\n",
      "Epoch 75/100\n",
      "160/160 [==============================] - 1s 5ms/step - loss: 0.2739 - acc: 0.9000 - val_loss: 0.2570 - val_acc: 0.9000\n",
      "Epoch 76/100\n",
      "160/160 [==============================] - 1s 5ms/step - loss: 0.2642 - acc: 0.9062 - val_loss: 0.2514 - val_acc: 0.9050\n",
      "Epoch 77/100\n",
      "160/160 [==============================] - 1s 5ms/step - loss: 0.2834 - acc: 0.8975 - val_loss: 0.2503 - val_acc: 0.9000\n",
      "Epoch 78/100\n",
      "160/160 [==============================] - 1s 5ms/step - loss: 0.2592 - acc: 0.9038 - val_loss: 0.2608 - val_acc: 0.9050\n",
      "Epoch 79/100\n",
      "160/160 [==============================] - 1s 5ms/step - loss: 0.2815 - acc: 0.8950 - val_loss: 0.2372 - val_acc: 0.8950\n",
      "Epoch 80/100\n",
      "160/160 [==============================] - 1s 5ms/step - loss: 0.3006 - acc: 0.8825 - val_loss: 0.2431 - val_acc: 0.9150\n",
      "Epoch 81/100\n",
      "160/160 [==============================] - 1s 5ms/step - loss: 0.2444 - acc: 0.9225 - val_loss: 0.2504 - val_acc: 0.9000\n",
      "Epoch 82/100\n",
      "160/160 [==============================] - 1s 5ms/step - loss: 0.2586 - acc: 0.8963 - val_loss: 0.2518 - val_acc: 0.8850\n",
      "Epoch 83/100\n",
      "160/160 [==============================] - 1s 5ms/step - loss: 0.2643 - acc: 0.9025 - val_loss: 0.2636 - val_acc: 0.8800\n",
      "Epoch 84/100\n",
      "160/160 [==============================] - 1s 5ms/step - loss: 0.2632 - acc: 0.9050 - val_loss: 0.2556 - val_acc: 0.8750\n",
      "Epoch 85/100\n",
      "160/160 [==============================] - 1s 5ms/step - loss: 0.2627 - acc: 0.9050 - val_loss: 0.2484 - val_acc: 0.9050\n",
      "Epoch 86/100\n",
      "160/160 [==============================] - 1s 5ms/step - loss: 0.2264 - acc: 0.9275 - val_loss: 0.2381 - val_acc: 0.9050\n",
      "Epoch 87/100\n",
      "160/160 [==============================] - 1s 5ms/step - loss: 0.2630 - acc: 0.9087 - val_loss: 0.2519 - val_acc: 0.8950\n",
      "Epoch 88/100\n",
      "160/160 [==============================] - 1s 5ms/step - loss: 0.2790 - acc: 0.9025 - val_loss: 0.2482 - val_acc: 0.8950\n",
      "Epoch 89/100\n",
      "160/160 [==============================] - 1s 5ms/step - loss: 0.2793 - acc: 0.8937 - val_loss: 0.2509 - val_acc: 0.8950\n",
      "Epoch 90/100\n",
      "160/160 [==============================] - 1s 5ms/step - loss: 0.2629 - acc: 0.9038 - val_loss: 0.2357 - val_acc: 0.9000\n",
      "Epoch 91/100\n",
      "160/160 [==============================] - 1s 5ms/step - loss: 0.2575 - acc: 0.9000 - val_loss: 0.2476 - val_acc: 0.8950\n",
      "Epoch 92/100\n",
      "160/160 [==============================] - 1s 5ms/step - loss: 0.2404 - acc: 0.9212 - val_loss: 0.2399 - val_acc: 0.9050\n",
      "Epoch 93/100\n",
      "160/160 [==============================] - 1s 5ms/step - loss: 0.2525 - acc: 0.9112 - val_loss: 0.2497 - val_acc: 0.9050\n",
      "Epoch 94/100\n",
      "160/160 [==============================] - 1s 5ms/step - loss: 0.2416 - acc: 0.9100 - val_loss: 0.2163 - val_acc: 0.9100\n",
      "Epoch 95/100\n",
      "160/160 [==============================] - 1s 5ms/step - loss: 0.2600 - acc: 0.9038 - val_loss: 0.2303 - val_acc: 0.9000\n",
      "Epoch 96/100\n",
      "160/160 [==============================] - 1s 5ms/step - loss: 0.2671 - acc: 0.8975 - val_loss: 0.2284 - val_acc: 0.9100\n",
      "Epoch 97/100\n",
      "160/160 [==============================] - 1s 5ms/step - loss: 0.2555 - acc: 0.9087 - val_loss: 0.2441 - val_acc: 0.9000\n",
      "Epoch 98/100\n",
      "160/160 [==============================] - 1s 5ms/step - loss: 0.2550 - acc: 0.9075 - val_loss: 0.2257 - val_acc: 0.9050\n",
      "Epoch 99/100\n",
      "160/160 [==============================] - 1s 5ms/step - loss: 0.2601 - acc: 0.9013 - val_loss: 0.2324 - val_acc: 0.9050\n",
      "Epoch 100/100\n",
      "160/160 [==============================] - 1s 5ms/step - loss: 0.2602 - acc: 0.9075 - val_loss: 0.2464 - val_acc: 0.9000\n"
     ]
    }
   ],
   "source": [
    "# train the model\n",
    "h = model.fit(x = X, y=y, verbose=True, validation_split=0.2, epochs=100, batch_size=5)"
   ]
  },
  {
   "cell_type": "code",
   "execution_count": 30,
   "metadata": {},
   "outputs": [
    {
     "data": {
      "text/plain": [
       "<matplotlib.legend.Legend at 0x2a6691400>"
      ]
     },
     "execution_count": 30,
     "metadata": {},
     "output_type": "execute_result"
    },
    {
     "data": {
      "image/png": "[encoded data removed]",
      "text/plain": [
       "<Figure size 720x360 with 1 Axes>"
      ]
     },
     "metadata": {
      "needs_background": "light"
     },
     "output_type": "display_data"
    }
   ],
   "source": [
    "f, ax = plt.subplots(1, 1, figsize=(10, 5))\n",
    "ax.plot(h.history['loss'], linewidth=2)\n",
    "ax.plot(h.history['val_loss'], linewidth=2)\n",
    "ax.set_title('Model Loss')\n",
    "ax.set_ylabel('Loss')\n",
    "ax.set_xlabel('Epoch')\n",
    "ax.legend(['Train', 'Test'], loc='upper left')"
   ]
  },
  {
   "cell_type": "code",
   "execution_count": 31,
   "metadata": {},
   "outputs": [
    {
     "data": {
      "text/plain": [
       "(0.8, 1.0)"
      ]
     },
     "execution_count": 31,
     "metadata": {},
     "output_type": "execute_result"
    },
    {
     "data": {
      "image/png": "[encoded data removed]",
      "text/plain": [
       "<Figure size 720x360 with 1 Axes>"
      ]
     },
     "metadata": {
      "needs_background": "light"
     },
     "output_type": "display_data"
    }
   ],
   "source": [
    "f, ax = plt.subplots(1, 1, figsize=(10, 5))\n",
    "ax.plot(h.history['acc'], linewidth=2)\n",
    "ax.plot(h.history['val_acc'], linewidth=2)\n",
    "ax.set_title('Model Accuracy')\n",
    "ax.set_ylabel('Loss')\n",
    "ax.set_xlabel('Epoch')\n",
    "ax.legend(['Train', 'Test'], loc='upper left')\n",
    "ax.set_ylim([0.8, 1.0])"
   ]
  },
  {
   "cell_type": "markdown",
   "metadata": {},
   "source": [
    "* Notice how the testing loss pretty much tracks the training loss\n",
    "* The final accuracy is 90% for both training and testing. Recall that without dropout, the final test accuracy dropped to 87.5"
   ]
  },
  {
   "cell_type": "markdown",
   "metadata": {},
   "source": [
    "## Fighting Overfitting: Regularization\n",
    "\n",
    "* An extra term is a added to the loss function to penalize network weights that are too large. For example, the common L2 regularization scheme adds a summation of all network weights squared:\n",
    "\n",
    "$$\\mathcal{L}(\\hat{y}_{i},y_{i})=\\mathcal{L}_{MSE}(\\hat{y}_{i},y_{i})+0.5\\lambda\\sum_{j}w_{j}^{2}$$\n",
    "\n",
    "* L2 regularization encourages diffuse weight vectors and discourages vectors with large individual weights\n",
    "\n",
    "* The regularization parameter $\\lambda$ has to be determined ahead of time"
   ]
  },
  {
   "cell_type": "code",
   "execution_count": 32,
   "metadata": {},
   "outputs": [
    {
     "name": "stdout",
     "output_type": "stream",
     "text": [
      "Model: \"model_4\"\n",
      "_________________________________________________________________\n",
      "Layer (type)                 Output Shape              Param #   \n",
      "=================================================================\n",
      "input_5 (InputLayer)         [(None, 12)]              0         \n",
      "_________________________________________________________________\n",
      "dense_8 (Dense)              (None, 30)                390       \n",
      "_________________________________________________________________\n",
      "dense_9 (Dense)              (None, 6)                 186       \n",
      "=================================================================\n",
      "Total params: 576\n",
      "Trainable params: 576\n",
      "Non-trainable params: 0\n",
      "_________________________________________________________________\n",
      "None\n"
     ]
    }
   ],
   "source": [
    "import tensorflow.keras.regularizers as reg \n",
    "\n",
    "# number of hidden units\n",
    "n_hidden = 30\n",
    "\n",
    "# L2 regularization penalty term, try different values [0.001, 0.01, 0.1, 1.]\n",
    "l2_penalty = 0.05\n",
    "\n",
    "\n",
    "# notice that we don't specify the first dimension in the input \n",
    "# shape, Keras infers that automatically\n",
    "# the trailing comma is important! don't forget it\n",
    "input_node = layers.Input(shape=(X.shape[1],))\n",
    "hidden_layer = layers.Dense(n_hidden, activation='tanh', kernel_regularizer=reg.l2(l2_penalty))(input_node)\n",
    "output_node = layers.Dense(y.shape[1], activation='softmax', kernel_regularizer=reg.l2(l2_penalty))(hidden_layer)\n",
    "model = keras.models.Model(inputs=input_node, outputs=output_node)\n",
    "model.compile('sgd', 'categorical_crossentropy', metrics=['acc'])\n",
    "print(model.summary())\n"
   ]
  },
  {
   "cell_type": "code",
   "execution_count": 33,
   "metadata": {},
   "outputs": [
    {
     "name": "stderr",
     "output_type": "stream",
     "text": [
      "2021-12-03 13:57:05.644285: I tensorflow/core/grappler/optimizers/custom_graph_optimizer_registry.cc:112] Plugin optimizer for device_type GPU is enabled.\n",
      "2021-12-03 13:57:06.402536: I tensorflow/core/grappler/optimizers/custom_graph_optimizer_registry.cc:112] Plugin optimizer for device_type GPU is enabled.\n"
     ]
    }
   ],
   "source": [
    "# train the model\n",
    "h = model.fit(x = X, y=y, verbose=False, validation_split=0.2, epochs=100, batch_size=5)"
   ]
  },
  {
   "cell_type": "code",
   "execution_count": 35,
   "metadata": {},
   "outputs": [
    {
     "data": {
      "text/plain": [
       "<matplotlib.legend.Legend at 0x29f2d17f0>"
      ]
     },
     "execution_count": 35,
     "metadata": {},
     "output_type": "execute_result"
    },
    {
     "data": {
      "image/png": "[encoded data removed]",
      "text/plain": [
       "<Figure size 720x360 with 1 Axes>"
      ]
     },
     "metadata": {
      "needs_background": "light"
     },
     "output_type": "display_data"
    }
   ],
   "source": [
    "f, ax = plt.subplots(1, 1, figsize=(10, 5))\n",
    "ax.plot(h.history['loss'], linewidth=2)\n",
    "ax.plot(h.history['val_loss'], linewidth=2)\n",
    "ax.set_title('Model Loss')\n",
    "ax.set_ylabel('Loss')\n",
    "ax.set_xlabel('Epoch')\n",
    "ax.legend(['Train', 'Test'], loc='upper left')"
   ]
  },
  {
   "cell_type": "code",
   "execution_count": 36,
   "metadata": {},
   "outputs": [
    {
     "name": "stdout",
     "output_type": "stream",
     "text": [
      "0.9300000071525574\n"
     ]
    },
    {
     "data": {
      "image/png": "[encoded data removed]",
      "text/plain": [
       "<Figure size 720x360 with 1 Axes>"
      ]
     },
     "metadata": {
      "needs_background": "light"
     },
     "output_type": "display_data"
    }
   ],
   "source": [
    "f, ax = plt.subplots(1, 1, figsize=(10, 5))\n",
    "ax.plot(h.history['acc'], linewidth=2)\n",
    "ax.plot(h.history['val_acc'], linewidth=2)\n",
    "ax.set_title('Model Accuracy')\n",
    "ax.set_ylabel('Accuracy')\n",
    "ax.set_xlabel('Epoch')\n",
    "ax.legend(['Train', 'Test'], loc='upper left')\n",
    "print(h.history['val_acc'][-1])"
   ]
  },
  {
   "cell_type": "markdown",
   "metadata": {},
   "source": [
    "* Dropout tends to make convergence slower \n",
    "\n",
    "## Fighting Overfitting: Early-Stopping\n",
    "\n",
    "* Why don't we just run the model, and pick the point at which the test loss stops decreasing?\n",
    "\n",
    "* That's a huge ***NO NO***. By doing so, you are implicitly training on the test set, even though you are not applying gradient descent directly to it.\n",
    "\n",
    "* But, this does provide us with an idea: what if we split the training set further into a _real_ training set and a validation set.\n",
    "\n",
    "* We train the model on the real training set and monitor the loss on the validation set. And pick the model with the lowest validation error.\n",
    "\n",
    "* To do this with Keras, we use the concept of _callbacks_. \n",
    "\n",
    "* A callback is a function that gets called at the end of every epoch.\n",
    "\n",
    "* We need two callbacks: one to stop training when the validation loss starts increasing, and one to save the model parameter at that point."
   ]
  },
  {
   "cell_type": "code",
   "execution_count": 37,
   "metadata": {},
   "outputs": [],
   "source": [
    "import tensorflow.keras.callbacks"
   ]
  },
  {
   "cell_type": "code",
   "execution_count": 38,
   "metadata": {},
   "outputs": [],
   "source": [
    "callbacks = [\n",
    "    tensorflow.keras.callbacks.EarlyStopping(monitor='val_loss', patience=10, restore_best_weights=True)\n",
    "]"
   ]
  },
  {
   "cell_type": "code",
   "execution_count": 43,
   "metadata": {},
   "outputs": [
    {
     "name": "stdout",
     "output_type": "stream",
     "text": [
      "Model: \"model_7\"\n",
      "_________________________________________________________________\n",
      "Layer (type)                 Output Shape              Param #   \n",
      "=================================================================\n",
      "input_8 (InputLayer)         [(None, 12)]              0         \n",
      "_________________________________________________________________\n",
      "dense_14 (Dense)             (None, 30)                390       \n",
      "_________________________________________________________________\n",
      "dense_15 (Dense)             (None, 6)                 186       \n",
      "=================================================================\n",
      "Total params: 576\n",
      "Trainable params: 576\n",
      "Non-trainable params: 0\n",
      "_________________________________________________________________\n",
      "None\n"
     ]
    },
    {
     "data": {
      "text/plain": [
       "(200, 12)"
      ]
     },
     "execution_count": 43,
     "metadata": {},
     "output_type": "execute_result"
    }
   ],
   "source": [
    "# number of hidden units\n",
    "n_hidden = 30\n",
    "\n",
    "\n",
    "# build model\n",
    "input_node = layers.Input(shape=(X.shape[1],))\n",
    "hidden_layer = layers.Dense(n_hidden, activation='tanh')(input_node)\n",
    "output_node = layers.Dense(y.shape[1], activation='softmax')(hidden_layer)\n",
    "model = keras.models.Model(inputs=input_node, outputs=output_node)\n",
    "model.compile('sgd', 'categorical_crossentropy', metrics=['acc'])\n",
    "print(model.summary())\n",
    "\n",
    "\n",
    "# split data into training, validation, and testing\n",
    "n_train_prop = 0.6\n",
    "n_valid_prop = 0.2\n",
    "n_test_prop = 0.2\n",
    "\n",
    "ix = rng.permutation(X.shape[0])\n",
    "\n",
    "n_train = int(n_train_prop * X.shape[0])\n",
    "n_valid = int(n_valid_prop * X.shape[0])\n",
    "n_test = X.shape[0] - n_train - n_valid \n",
    "\n",
    "train_ix = ix[:n_train]\n",
    "valid_ix = ix[n_train:(n_train + n_valid)]\n",
    "test_ix = ix[(n_train + n_valid):]\n",
    "\n",
    "Xtrain, ytrain = X[train_ix, :], y[train_ix]\n",
    "Xvalid, yvalid = X[valid_ix, :], y[valid_ix]\n",
    "Xtest, ytest = X[test_ix, :], y[test_ix]\n",
    "\n",
    "Xvalid.shape"
   ]
  },
  {
   "cell_type": "code",
   "execution_count": 45,
   "metadata": {},
   "outputs": [
    {
     "name": "stdout",
     "output_type": "stream",
     "text": [
      "Epoch 1/100\n",
      " 37/120 [========>.....................] - ETA: 0s - loss: 0.3424 - acc: 0.8757"
     ]
    },
    {
     "name": "stderr",
     "output_type": "stream",
     "text": [
      "2021-12-03 14:19:11.406787: I tensorflow/core/grappler/optimizers/custom_graph_optimizer_registry.cc:112] Plugin optimizer for device_type GPU is enabled.\n"
     ]
    },
    {
     "name": "stdout",
     "output_type": "stream",
     "text": [
      "120/120 [==============================] - 1s 4ms/step - loss: 0.3637 - acc: 0.8783 - val_loss: 0.4763 - val_acc: 0.8100\n",
      "Epoch 2/100\n",
      "120/120 [==============================] - 1s 4ms/step - loss: 0.3451 - acc: 0.8900 - val_loss: 0.4692 - val_acc: 0.8200\n",
      "Epoch 3/100\n",
      "120/120 [==============================] - 1s 4ms/step - loss: 0.3292 - acc: 0.8983 - val_loss: 0.4511 - val_acc: 0.8300\n",
      "Epoch 4/100\n",
      "120/120 [==============================] - 1s 4ms/step - loss: 0.3149 - acc: 0.9167 - val_loss: 0.4382 - val_acc: 0.8300\n",
      "Epoch 5/100\n",
      "120/120 [==============================] - 1s 4ms/step - loss: 0.3021 - acc: 0.9183 - val_loss: 0.4275 - val_acc: 0.8350\n",
      "Epoch 6/100\n",
      "120/120 [==============================] - 1s 4ms/step - loss: 0.2872 - acc: 0.9233 - val_loss: 0.4181 - val_acc: 0.8400\n",
      "Epoch 7/100\n",
      "120/120 [==============================] - 1s 4ms/step - loss: 0.2775 - acc: 0.9350 - val_loss: 0.4086 - val_acc: 0.8450\n",
      "Epoch 8/100\n",
      "120/120 [==============================] - 1s 4ms/step - loss: 0.2671 - acc: 0.9300 - val_loss: 0.4020 - val_acc: 0.8500\n",
      "Epoch 9/100\n",
      "120/120 [==============================] - 1s 4ms/step - loss: 0.2564 - acc: 0.9333 - val_loss: 0.3934 - val_acc: 0.8550\n",
      "Epoch 10/100\n",
      "120/120 [==============================] - 1s 4ms/step - loss: 0.2465 - acc: 0.9417 - val_loss: 0.3879 - val_acc: 0.8550\n",
      "Epoch 11/100\n",
      "120/120 [==============================] - 1s 4ms/step - loss: 0.2386 - acc: 0.9417 - val_loss: 0.3794 - val_acc: 0.8550\n",
      "Epoch 12/100\n",
      "120/120 [==============================] - 1s 4ms/step - loss: 0.2331 - acc: 0.9433 - val_loss: 0.3754 - val_acc: 0.8550\n",
      "Epoch 13/100\n",
      "120/120 [==============================] - 1s 4ms/step - loss: 0.2246 - acc: 0.9533 - val_loss: 0.3686 - val_acc: 0.8600\n",
      "Epoch 14/100\n",
      "120/120 [==============================] - 1s 4ms/step - loss: 0.2188 - acc: 0.9533 - val_loss: 0.3664 - val_acc: 0.8650\n",
      "Epoch 15/100\n",
      "120/120 [==============================] - 1s 4ms/step - loss: 0.2115 - acc: 0.9583 - val_loss: 0.3616 - val_acc: 0.8650\n",
      "Epoch 16/100\n",
      "120/120 [==============================] - 1s 5ms/step - loss: 0.2059 - acc: 0.9550 - val_loss: 0.3629 - val_acc: 0.8600\n",
      "Epoch 17/100\n",
      "120/120 [==============================] - 1s 4ms/step - loss: 0.2012 - acc: 0.9567 - val_loss: 0.3537 - val_acc: 0.8600\n",
      "Epoch 18/100\n",
      "120/120 [==============================] - 1s 4ms/step - loss: 0.1957 - acc: 0.9583 - val_loss: 0.3487 - val_acc: 0.8650\n",
      "Epoch 19/100\n",
      "120/120 [==============================] - 1s 4ms/step - loss: 0.1901 - acc: 0.9550 - val_loss: 0.3465 - val_acc: 0.8650\n",
      "Epoch 20/100\n",
      "120/120 [==============================] - 1s 4ms/step - loss: 0.1852 - acc: 0.9600 - val_loss: 0.3435 - val_acc: 0.8600\n",
      "Epoch 21/100\n",
      "120/120 [==============================] - 1s 4ms/step - loss: 0.1818 - acc: 0.9583 - val_loss: 0.3427 - val_acc: 0.8700\n",
      "Epoch 22/100\n",
      "120/120 [==============================] - 1s 4ms/step - loss: 0.1768 - acc: 0.9583 - val_loss: 0.3396 - val_acc: 0.8700\n",
      "Epoch 23/100\n",
      "120/120 [==============================] - 1s 5ms/step - loss: 0.1732 - acc: 0.9600 - val_loss: 0.3395 - val_acc: 0.8700\n",
      "Epoch 24/100\n",
      "120/120 [==============================] - 1s 4ms/step - loss: 0.1708 - acc: 0.9617 - val_loss: 0.3381 - val_acc: 0.8750\n",
      "Epoch 25/100\n",
      "120/120 [==============================] - 1s 4ms/step - loss: 0.1673 - acc: 0.9650 - val_loss: 0.3351 - val_acc: 0.8750\n",
      "Epoch 26/100\n",
      "120/120 [==============================] - 1s 4ms/step - loss: 0.1626 - acc: 0.9633 - val_loss: 0.3328 - val_acc: 0.8800\n",
      "Epoch 27/100\n",
      "120/120 [==============================] - 1s 4ms/step - loss: 0.1598 - acc: 0.9650 - val_loss: 0.3319 - val_acc: 0.8800\n",
      "Epoch 28/100\n",
      "120/120 [==============================] - 1s 4ms/step - loss: 0.1570 - acc: 0.9633 - val_loss: 0.3312 - val_acc: 0.8800\n",
      "Epoch 29/100\n",
      "120/120 [==============================] - 1s 4ms/step - loss: 0.1540 - acc: 0.9617 - val_loss: 0.3280 - val_acc: 0.8800\n",
      "Epoch 30/100\n",
      "120/120 [==============================] - 1s 5ms/step - loss: 0.1499 - acc: 0.9650 - val_loss: 0.3276 - val_acc: 0.8750\n",
      "Epoch 31/100\n",
      "120/120 [==============================] - 1s 4ms/step - loss: 0.1475 - acc: 0.9650 - val_loss: 0.3269 - val_acc: 0.8800\n",
      "Epoch 32/100\n",
      "120/120 [==============================] - 1s 4ms/step - loss: 0.1458 - acc: 0.9650 - val_loss: 0.3273 - val_acc: 0.8750\n",
      "Epoch 33/100\n",
      "120/120 [==============================] - 1s 4ms/step - loss: 0.1427 - acc: 0.9650 - val_loss: 0.3263 - val_acc: 0.8750\n",
      "Epoch 34/100\n",
      "120/120 [==============================] - 1s 5ms/step - loss: 0.1401 - acc: 0.9650 - val_loss: 0.3331 - val_acc: 0.8750\n",
      "Epoch 35/100\n",
      "120/120 [==============================] - 1s 4ms/step - loss: 0.1384 - acc: 0.9633 - val_loss: 0.3314 - val_acc: 0.8750\n",
      "Epoch 36/100\n",
      "120/120 [==============================] - 1s 4ms/step - loss: 0.1356 - acc: 0.9667 - val_loss: 0.3258 - val_acc: 0.8800\n",
      "Epoch 37/100\n",
      "120/120 [==============================] - 1s 4ms/step - loss: 0.1327 - acc: 0.9700 - val_loss: 0.3263 - val_acc: 0.8750\n",
      "Epoch 38/100\n",
      "120/120 [==============================] - 1s 5ms/step - loss: 0.1320 - acc: 0.9667 - val_loss: 0.3246 - val_acc: 0.8850\n",
      "Epoch 39/100\n",
      "120/120 [==============================] - 1s 4ms/step - loss: 0.1288 - acc: 0.9700 - val_loss: 0.3246 - val_acc: 0.8850\n",
      "Epoch 40/100\n",
      "120/120 [==============================] - 1s 4ms/step - loss: 0.1274 - acc: 0.9667 - val_loss: 0.3244 - val_acc: 0.8850\n",
      "Epoch 41/100\n",
      "120/120 [==============================] - 1s 4ms/step - loss: 0.1251 - acc: 0.9700 - val_loss: 0.3247 - val_acc: 0.8800\n",
      "Epoch 42/100\n",
      "120/120 [==============================] - 1s 4ms/step - loss: 0.1233 - acc: 0.9717 - val_loss: 0.3247 - val_acc: 0.8850\n",
      "Epoch 43/100\n",
      "120/120 [==============================] - 1s 5ms/step - loss: 0.1219 - acc: 0.9733 - val_loss: 0.3252 - val_acc: 0.8850\n",
      "Epoch 44/100\n",
      "120/120 [==============================] - 1s 4ms/step - loss: 0.1182 - acc: 0.9717 - val_loss: 0.3287 - val_acc: 0.8900\n",
      "Epoch 45/100\n",
      "120/120 [==============================] - 1s 5ms/step - loss: 0.1177 - acc: 0.9733 - val_loss: 0.3280 - val_acc: 0.8950\n",
      "Epoch 46/100\n",
      "120/120 [==============================] - 1s 5ms/step - loss: 0.1162 - acc: 0.9733 - val_loss: 0.3271 - val_acc: 0.8950\n",
      "Epoch 47/100\n",
      "120/120 [==============================] - 1s 5ms/step - loss: 0.1138 - acc: 0.9733 - val_loss: 0.3284 - val_acc: 0.8900\n",
      "Epoch 48/100\n",
      "120/120 [==============================] - 1s 5ms/step - loss: 0.1122 - acc: 0.9800 - val_loss: 0.3267 - val_acc: 0.8850\n",
      "Epoch 49/100\n",
      "120/120 [==============================] - 1s 4ms/step - loss: 0.1103 - acc: 0.9767 - val_loss: 0.3266 - val_acc: 0.8800\n",
      "Epoch 50/100\n",
      "120/120 [==============================] - 1s 4ms/step - loss: 0.1092 - acc: 0.9733 - val_loss: 0.3263 - val_acc: 0.8900\n"
     ]
    },
    {
     "data": {
      "text/plain": [
       "<tensorflow.python.keras.callbacks.History at 0x17c11ad60>"
      ]
     },
     "execution_count": 45,
     "metadata": {},
     "output_type": "execute_result"
    }
   ],
   "source": [
    "model.fit(\n",
    "        x=Xtrain,\n",
    "        y=ytrain,\n",
    "        batch_size=5,\n",
    "        epochs=100,\n",
    "        verbose=True,\n",
    "        validation_data=(Xvalid, yvalid),\n",
    "        callbacks=callbacks)"
   ]
  },
  {
   "cell_type": "code",
   "execution_count": 47,
   "metadata": {},
   "outputs": [
    {
     "name": "stdout",
     "output_type": "stream",
     "text": [
      "Accuracy: 0.84\n"
     ]
    },
    {
     "name": "stderr",
     "output_type": "stream",
     "text": [
      "2021-12-03 14:19:52.273314: I tensorflow/core/grappler/optimizers/custom_graph_optimizer_registry.cc:112] Plugin optimizer for device_type GPU is enabled.\n"
     ]
    }
   ],
   "source": [
    "preds = model.predict(Xtest)\n",
    "\n",
    "acc = sklearn.metrics.accuracy_score(np.argmax(ytest, axis=1), np.argmax(preds, 1))\n",
    "print(\"Accuracy: %0.2f\" % acc)"
   ]
  },
  {
   "cell_type": "code",
   "execution_count": 20,
   "metadata": {},
   "outputs": [
    {
     "name": "stdout",
     "output_type": "stream",
     "text": [
      "0.905\n"
     ]
    }
   ],
   "source": []
  },
  {
   "cell_type": "code",
   "execution_count": null,
   "metadata": {},
   "outputs": [],
   "source": []
  }
 ],
 "metadata": {
  "kernelspec": {
   "display_name": "Python 3 (ipykernel)",
   "language": "python",
   "name": "python3"
  },
  "language_info": {
   "codemirror_mode": {
    "name": "ipython",
    "version": 3
   },
   "file_extension": ".py",
   "mimetype": "text/x-python",
   "name": "python",
   "nbconvert_exporter": "python",
   "pygments_lexer": "ipython3",
   "version": "3.8.10"
  }
 },
 "nbformat": 4,
 "nbformat_minor": 4
}
