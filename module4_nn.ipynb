{
 "cells": [
  {
   "cell_type": "markdown",
   "metadata": {},
   "source": [
    "# Module 4: Neural Networks\n",
    "\n",
    "* At the end of module 2, you implemented a basic neural net with one unit. In this module, we explain what a full neural net is and how to implement it in Tensorflow 2.0\n",
    "\n",
    "## A Single Neuron\n",
    "\n",
    "* An artificial neuron is a mathematical function that computes a weighted sum of its inputs and then applies some transformation to that sum. That transformation is known as the activation function.\n",
    "\n",
    "![alt text](figures/neuron.png)\n",
    "\n",
    "* In Module 2, the transformation was a `cos()` function, but that is rarely used in neural nets. The Figure above shows some common transformations.\n",
    "\n",
    "* Neural networks get their representational power from _nonlinear_ transformations, such as $tanh$ and $relu$ above."
   ]
  },
  {
   "cell_type": "code",
   "execution_count": 1,
   "metadata": {},
   "outputs": [
    {
     "name": "stdout",
     "output_type": "stream",
     "text": [
      "-0.935409070603099\n"
     ]
    }
   ],
   "source": [
    "import numpy as np \n",
    "\n",
    "# simulate a n euron with two inputs\n",
    "\n",
    "# input 1\n",
    "x1 = 1.0\n",
    "\n",
    "# input 2\n",
    "x2 = -2.0\n",
    "\n",
    "# weight on input 1\n",
    "w1 = 0.3\n",
    "\n",
    "# weight on input 2\n",
    "w2 = 1\n",
    "\n",
    "# bias, offset, intercept\n",
    "b = 0\n",
    "\n",
    "# weighted sum of inputs\n",
    "wsum = b + w1 * x1 + w2 * x2\n",
    "\n",
    "# nonlinear transform\n",
    "neuron_output = np.tanh(wsum)\n",
    "\n",
    "print(neuron_output)"
   ]
  },
  {
   "cell_type": "markdown",
   "metadata": {},
   "source": [
    "* The bias is important because it captures the \"average\" trend (remember the null model? that is an average model)\n",
    "* Let's generalize the code a little bit by using vectorized operations"
   ]
  },
  {
   "cell_type": "code",
   "execution_count": 2,
   "metadata": {},
   "outputs": [
    {
     "name": "stdout",
     "output_type": "stream",
     "text": [
      "-0.935409070603099\n"
     ]
    }
   ],
   "source": [
    "# input is now supplied as a vector of length 2\n",
    "x = np.array([1.0, -2.0])\n",
    "\n",
    "# weights are also expressed as a vector\n",
    "w = np.array([0.3, 1.0])\n",
    "\n",
    "wsum = b + np.sum(x * w)\n",
    "neuron_output = np.tanh(wsum)\n",
    "\n",
    "print(neuron_output)"
   ]
  },
  {
   "cell_type": "markdown",
   "metadata": {},
   "source": [
    "* We'll now plot the output of the neuron for many inputs\n",
    "* The purpose of this exercise is to see what kind of functions a single `tanh()` neuron can learn\n",
    "* Rather than using a for loop to iterate over each input, here we show how to use vectorized operations to efficiently compute the output of the neuron for all inputs"
   ]
  },
  {
   "cell_type": "code",
   "execution_count": 3,
   "metadata": {},
   "outputs": [
    {
     "name": "stdout",
     "output_type": "stream",
     "text": [
      "[-3.         -2.93939394 -2.87878788 ...  2.87878788  2.93939394\n",
      "  3.        ]\n",
      "[-3. -3. -3. ...  3.  3.  3.]\n"
     ]
    },
    {
     "data": {
      "image/png": "[encoded data removed]",
      "text/plain": [
       "<Figure size 720x720 with 1 Axes>"
      ]
     },
     "metadata": {
      "needs_background": "light"
     },
     "output_type": "display_data"
    }
   ],
   "source": [
    "import matplotlib.pyplot as plt \n",
    "\n",
    "# initialize range of input values\n",
    "K = 100\n",
    "xs = np.linspace(-3, 3, K)\n",
    "x1s, x2s = np.meshgrid(xs, xs)\n",
    "\n",
    "# zip the inputs up into a (K*K, 2) array\n",
    "print(x1s.flatten())\n",
    "print(x2s.flatten())\n",
    "X = np.vstack((x1s.flatten(), x2s.flatten())).T\n",
    "\n",
    "# apply neuron\n",
    "w = np.array([0.3, 0.9])\n",
    "\n",
    "# for each input x_i, compute the dot product between\n",
    "# x_i and w (this is the weighted sum) \n",
    "# since inputs are rows, we need to sum across the columns,\n",
    "# hence axis=1\n",
    "wsum = b + np.sum(X * w, axis=1) # wsum is now (K*K,)\n",
    "outputs = np.tanh(wsum)\n",
    "\n",
    "Z = np.reshape(outputs, (K, K))\n",
    "\n",
    "f, ax = plt.subplots(1, 1, figsize=(10, 10))\n",
    "cp = ax.contourf(x1s, x2s, Z)"
   ]
  },
  {
   "cell_type": "markdown",
   "metadata": {},
   "source": [
    "## Multiple Neurons\n",
    "\n",
    "* Neural nets really flex their muscles when they have multiple neurons.\n",
    "* A typical NN architecture consists of input features, a hidden layer with multiple neurons, and an output layer,  as shown below\n",
    "\n",
    "![alt text](figures/neuralnet.png)\n",
    "\n",
    "Let's implement a neural network with multiple neurons in the hidden layer."
   ]
  },
  {
   "cell_type": "code",
   "execution_count": 4,
   "metadata": {},
   "outputs": [
    {
     "name": "stdout",
     "output_type": "stream",
     "text": [
      "(10000, 15)\n",
      "(10000, 1)\n"
     ]
    },
    {
     "data": {
      "image/png": "[encoded data removed]",
      "text/plain": [
       "<Figure size 720x720 with 1 Axes>"
      ]
     },
     "metadata": {
      "needs_background": "light"
     },
     "output_type": "display_data"
    }
   ],
   "source": [
    "import numpy.random as rng \n",
    "\n",
    "# try varying the number of hidden units and see what happens\n",
    "n_hidden = 15\n",
    "\n",
    "# weight matrix from inputs to hidden neurons\n",
    "W_input_hidden = rng.randn(2, n_hidden)\n",
    "\n",
    "# bias of the hidden neurons\n",
    "b_hidden = rng.randn(n_hidden)\n",
    "\n",
    "# weight matrix from hidden neurons to output\n",
    "W_hidden_output = rng.randn(n_hidden, 1)\n",
    "\n",
    "# bias of the output neuron\n",
    "b_output = rng.randn()\n",
    "\n",
    "# compute hidden activation\n",
    "u = np.tanh(b_hidden + np.dot(X, W_input_hidden))\n",
    "print(u.shape)\n",
    "\n",
    "# compute output\n",
    "y = b_output + np.dot(u, W_hidden_output)\n",
    "print(y.shape)\n",
    "\n",
    "# plot\n",
    "Z = np.reshape(y, (K, K))\n",
    "f, ax = plt.subplots(1, 1, figsize=(10, 10))\n",
    "cp = ax.contourf(x1s, x2s, Z)"
   ]
  },
  {
   "cell_type": "markdown",
   "metadata": {},
   "source": [
    "* We see that as you increase the number of hidden units, the complexity of the functions that the network can learn increases\n",
    "\n",
    "## Learning\n",
    "\n",
    "* We now demonstrate how to apply a neural network to our fake datasest.\n",
    "* We will use Tensorflow to do gradient descent (thankfully!)"
   ]
  },
  {
   "cell_type": "code",
   "execution_count": 6,
   "metadata": {},
   "outputs": [
    {
     "name": "stderr",
     "output_type": "stream",
     "text": [
      "2022-01-10 19:48:17.657157: I tensorflow/core/common_runtime/pluggable_device/pluggable_device_factory.cc:305] Could not identify NUMA node of platform GPU ID 0, defaulting to 0. Your kernel may not have been built with NUMA support.\n",
      "2022-01-10 19:48:17.657621: I tensorflow/core/common_runtime/pluggable_device/pluggable_device_factory.cc:271] Created TensorFlow device (/job:localhost/replica:0/task:0/device:GPU:0 with 0 MB memory) -> physical PluggableDevice (device: 0, name: METAL, pci bus id: <undefined>)\n"
     ]
    },
    {
     "name": "stdout",
     "output_type": "stream",
     "text": [
      "Metal device set to: Apple M1\n",
      "Final MSE: 1.3296\n"
     ]
    },
    {
     "data": {
      "text/plain": [
       "[<matplotlib.lines.Line2D at 0x297a9b100>]"
      ]
     },
     "execution_count": 6,
     "metadata": {},
     "output_type": "execute_result"
    },
    {
     "data": {
      "image/png": "[encoded data removed]",
      "text/plain": [
       "<Figure size 720x360 with 1 Axes>"
      ]
     },
     "metadata": {
      "needs_background": "light"
     },
     "output_type": "display_data"
    }
   ],
   "source": [
    "import numpy.random as rng \n",
    "import tensorflow as tf\n",
    "\n",
    "# try varying the number of hidden units and learning rates\n",
    "n_hidden = 100\n",
    "eta = 0.01\n",
    "\n",
    "# read data\n",
    "data = np.load('data/fake_data.npz')\n",
    "X, y = data['X'], data['y']\n",
    "\n",
    "# move data to tensorflow space\n",
    "X = tf.convert_to_tensor(X, dtype=tf.float32)\n",
    "y = tf.convert_to_tensor(y, dtype=tf.float32)\n",
    "\n",
    "# randomly initialize model parameters\n",
    "W_input_hidden = tf.Variable(rng.randn(X.shape[1], n_hidden), dtype=tf.float32) \n",
    "W_hidden_output = tf.Variable(rng.randn(n_hidden, 1), dtype=tf.float32)\n",
    "b_hidden = tf.Variable(rng.randn(n_hidden), dtype=tf.float32)\n",
    "b_output = tf.Variable(rng.randn(1), dtype=tf.float32)\n",
    "variables = [W_input_hidden, W_hidden_output, b_hidden, b_output]\n",
    "# create optimizer\n",
    "optimizer = tf.keras.optimizers.SGD(learning_rate=eta)\n",
    "\n",
    "# repeat N times\n",
    "N = 200\n",
    "for i in range(N):\n",
    "    \n",
    "    with tf.GradientTape() as gt:\n",
    "        \n",
    "        # forward computation\n",
    "        hidden_activation = tf.tanh(b_hidden + tf.matmul(X, W_input_hidden))\n",
    "        ypred = b_output + tf.matmul(hidden_activation, W_hidden_output)\n",
    "        \n",
    "        # loss\n",
    "        mse_loss = tf.reduce_mean(tf.square(ypred - y))\n",
    "        \n",
    "    # compute gradient of loss with respect to parameters\n",
    "    # calculus NOT required!\n",
    "    gradients = gt.gradient(mse_loss, variables)\n",
    "    \n",
    "    # update the parameters\n",
    "    # this takes a list where each element is a tuple\n",
    "    # of (gradient, corresponding parameter)\n",
    "    optimizer.apply_gradients(zip(gradients, variables))\n",
    "    \n",
    "# report results\n",
    "hidden_activation = tf.tanh(b_hidden + tf.matmul(X, W_input_hidden))\n",
    "ypred = b_output + tf.matmul(hidden_activation, W_hidden_output)      \n",
    "mse_loss = tf.reduce_mean(tf.square(ypred - y))\n",
    "print(\"Final MSE: %0.4f\" % mse_loss.numpy())\n",
    "\n",
    "\n",
    "# plot resulting function\n",
    "xstar = np.linspace(0, 10, 1000)[:,np.newaxis]\n",
    "\n",
    "xstar_tf = tf.convert_to_tensor(xstar, dtype=tf.float32)\n",
    "hidden_activation = tf.tanh(b_hidden + tf.matmul(xstar_tf, W_input_hidden))\n",
    "ypred = b_output + tf.matmul(hidden_activation, W_hidden_output)     \n",
    "\n",
    "fig, ax = plt.subplots(1, 1, figsize=(10, 5))\n",
    "ax.plot(data['X'], data['y'], 'o', color='gold', markersize=10, \n",
    "        markeredgewidth=1, markeredgecolor='black')\n",
    "ax.plot(xstar, ypred.numpy(), linewidth=2)\n"
   ]
  },
  {
   "cell_type": "markdown",
   "metadata": {},
   "source": [
    "## Recap\n",
    "\n",
    "* A neural network consists of a collection of neurons, each applying a (non-)linear function to the weighted sum of its inputs\n",
    "* The weights are the free parameters of the network (the things that the machine learns)\n",
    "* A neural network can consist of multiple layers. For example, input, hidden 1, hidden 2, output.\n",
    "* Units in each hidden and output layer have an activation function and a set of weights.\n",
    "* More units => more complex and powerful network but that will come at a cost as we'll see later"
   ]
  }
 ],
 "metadata": {
  "kernelspec": {
   "display_name": "Python 3 (ipykernel)",
   "language": "python",
   "name": "python3"
  },
  "language_info": {
   "codemirror_mode": {
    "name": "ipython",
    "version": 3
   },
   "file_extension": ".py",
   "mimetype": "text/x-python",
   "name": "python",
   "nbconvert_exporter": "python",
   "pygments_lexer": "ipython3",
   "version": "3.8.10"
  }
 },
 "nbformat": 4,
 "nbformat_minor": 4
}
