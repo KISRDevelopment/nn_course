{
 "cells": [
  {
   "cell_type": "code",
   "execution_count": 1,
   "id": "ad301eeb-27d4-4747-8cb9-99e2da37da7b",
   "metadata": {},
   "outputs": [],
   "source": [
    "import numpy as np\n",
    "import pandas as pd\n",
    "from collections import defaultdict\n",
    "import numpy.random as rng\n",
    "import tensorflow as tf"
   ]
  },
  {
   "cell_type": "markdown",
   "id": "3df3ea80-8e49-4c4a-b583-29c49a84195d",
   "metadata": {},
   "source": [
    "# Recurrent Neural Networks\n",
    "\n",
    "- RNNs are designed to handle time series data\n",
    "- A RNN consists of a series of cells as follows:\n",
    "\n",
    "![alt text](figures/rnn.png)"
   ]
  },
  {
   "cell_type": "markdown",
   "id": "70e5f1d5-6082-4777-bb49-ad638f51eaeb",
   "metadata": {},
   "source": [
    "An RNN cell stores a _hidden state_  $\\boldsymbol{h}_t$. The cell takes the input at time $t$ and combines it with the hidden state from time $t-1$ to produce an output $\\boldsymbol{o}_t$.\n",
    "\n",
    "- It is important to note that the _same_ cell is repeated across time; the same weights and the same mathematical operations.\n",
    "- With RNNs, multiple prediction tasks can be performed:\n",
    "    - Predict the next output given the previous outputs and inputs\n",
    "    - Predict a label associated with the sequence\n",
    "    - Predict the output sequence, given the input sequence (used in tasks such as machine translation)\n",
    "- There are different kinds of RNN cells, but the most known are:\n",
    "    - Simple feedforward RNN cell\n",
    "    - Long-Short-Term-Memory (LSTM) and Gated Recurrent Unit (GRU) RNN cells which solve the vanishing gradient issue with simple feedforward RNN cells\n",
    "\n",
    "In this module, we'll apply RNNs to the task of student performance prediction. Here, we are given the following dataset:\n"
   ]
  },
  {
   "cell_type": "markdown",
   "id": "cd5c4959-418d-48f5-af76-9445e87f29d7",
   "metadata": {},
   "source": [
    "## Loading the data"
   ]
  },
  {
   "cell_type": "code",
   "execution_count": 85,
   "id": "b33af72d-a5fd-4bce-8e72-0c8093f0c68c",
   "metadata": {},
   "outputs": [
    {
     "data": {
      "text/html": [
       "<div>\n",
       "<style scoped>\n",
       "    .dataframe tbody tr th:only-of-type {\n",
       "        vertical-align: middle;\n",
       "    }\n",
       "\n",
       "    .dataframe tbody tr th {\n",
       "        vertical-align: top;\n",
       "    }\n",
       "\n",
       "    .dataframe thead th {\n",
       "        text-align: right;\n",
       "    }\n",
       "</style>\n",
       "<table border=\"1\" class=\"dataframe\">\n",
       "  <thead>\n",
       "    <tr style=\"text-align: right;\">\n",
       "      <th></th>\n",
       "      <th>correct</th>\n",
       "      <th>skill</th>\n",
       "      <th>student</th>\n",
       "      <th>problem</th>\n",
       "      <th>skill_name</th>\n",
       "    </tr>\n",
       "  </thead>\n",
       "  <tbody>\n",
       "    <tr>\n",
       "      <th>0</th>\n",
       "      <td>0</td>\n",
       "      <td>0</td>\n",
       "      <td>0</td>\n",
       "      <td>0</td>\n",
       "      <td>0</td>\n",
       "    </tr>\n",
       "    <tr>\n",
       "      <th>1</th>\n",
       "      <td>1</td>\n",
       "      <td>1</td>\n",
       "      <td>0</td>\n",
       "      <td>1</td>\n",
       "      <td>1</td>\n",
       "    </tr>\n",
       "    <tr>\n",
       "      <th>2</th>\n",
       "      <td>1</td>\n",
       "      <td>2</td>\n",
       "      <td>0</td>\n",
       "      <td>2</td>\n",
       "      <td>2</td>\n",
       "    </tr>\n",
       "    <tr>\n",
       "      <th>3</th>\n",
       "      <td>1</td>\n",
       "      <td>3</td>\n",
       "      <td>0</td>\n",
       "      <td>3</td>\n",
       "      <td>3</td>\n",
       "    </tr>\n",
       "    <tr>\n",
       "      <th>4</th>\n",
       "      <td>0</td>\n",
       "      <td>4</td>\n",
       "      <td>0</td>\n",
       "      <td>4</td>\n",
       "      <td>4</td>\n",
       "    </tr>\n",
       "    <tr>\n",
       "      <th>...</th>\n",
       "      <td>...</td>\n",
       "      <td>...</td>\n",
       "      <td>...</td>\n",
       "      <td>...</td>\n",
       "      <td>...</td>\n",
       "    </tr>\n",
       "    <tr>\n",
       "      <th>199995</th>\n",
       "      <td>1</td>\n",
       "      <td>45</td>\n",
       "      <td>3999</td>\n",
       "      <td>45</td>\n",
       "      <td>45</td>\n",
       "    </tr>\n",
       "    <tr>\n",
       "      <th>199996</th>\n",
       "      <td>1</td>\n",
       "      <td>46</td>\n",
       "      <td>3999</td>\n",
       "      <td>46</td>\n",
       "      <td>46</td>\n",
       "    </tr>\n",
       "    <tr>\n",
       "      <th>199997</th>\n",
       "      <td>1</td>\n",
       "      <td>47</td>\n",
       "      <td>3999</td>\n",
       "      <td>47</td>\n",
       "      <td>47</td>\n",
       "    </tr>\n",
       "    <tr>\n",
       "      <th>199998</th>\n",
       "      <td>1</td>\n",
       "      <td>48</td>\n",
       "      <td>3999</td>\n",
       "      <td>48</td>\n",
       "      <td>48</td>\n",
       "    </tr>\n",
       "    <tr>\n",
       "      <th>199999</th>\n",
       "      <td>1</td>\n",
       "      <td>49</td>\n",
       "      <td>3999</td>\n",
       "      <td>49</td>\n",
       "      <td>49</td>\n",
       "    </tr>\n",
       "  </tbody>\n",
       "</table>\n",
       "<p>200000 rows × 5 columns</p>\n",
       "</div>"
      ],
      "text/plain": [
       "        correct  skill  student  problem  skill_name\n",
       "0             0      0        0        0           0\n",
       "1             1      1        0        1           1\n",
       "2             1      2        0        2           2\n",
       "3             1      3        0        3           3\n",
       "4             0      4        0        4           4\n",
       "...         ...    ...      ...      ...         ...\n",
       "199995        1     45     3999       45          45\n",
       "199996        1     46     3999       46          46\n",
       "199997        1     47     3999       47          47\n",
       "199998        1     48     3999       48          48\n",
       "199999        1     49     3999       49          49\n",
       "\n",
       "[200000 rows x 5 columns]"
      ]
     },
     "execution_count": 85,
     "metadata": {},
     "output_type": "execute_result"
    }
   ],
   "source": [
    "df = pd.read_csv(\"data/synthetic.csv\")\n",
    "df"
   ]
  },
  {
   "cell_type": "code",
   "execution_count": 86,
   "id": "42528834-7654-4315-9052-5430c781410f",
   "metadata": {},
   "outputs": [
    {
     "name": "stdout",
     "output_type": "stream",
     "text": [
      "Mean correct: 0.67\n",
      "Number of students: 4000, Skills: 50\n"
     ]
    }
   ],
   "source": [
    "print(\"Mean correct: %0.2f\" % np.mean(df['correct'], axis=0))\n",
    "print(\"Number of students: %d, Skills: %d\" % (len(set(df['student'])), len(set(df['skill']))))"
   ]
  },
  {
   "cell_type": "markdown",
   "id": "78899273-294a-4963-8fa3-7d192cd82689",
   "metadata": {},
   "source": [
    "## Splitting into Sequences"
   ]
  },
  {
   "cell_type": "code",
   "execution_count": 87,
   "id": "f4bd4ab9-6664-431e-ac3a-32e374616798",
   "metadata": {},
   "outputs": [],
   "source": [
    "sequences_by_student = defaultdict(list)\n",
    "for r in df.itertuples():\n",
    "    sequences_by_student[r.student].append((r.skill, r.correct))"
   ]
  },
  {
   "cell_type": "code",
   "execution_count": 88,
   "id": "61b23b14-8a76-49f8-8ad0-e3a5a9e920f6",
   "metadata": {},
   "outputs": [
    {
     "name": "stdout",
     "output_type": "stream",
     "text": [
      "Median sequence length: 50, Range: 50-50\n"
     ]
    }
   ],
   "source": [
    "seq_lens = [len(seq) for student, seq in sequences_by_student.items()]\n",
    "print(\"Median sequence length: %d, Range: %d-%d\" % (np.median(seq_lens), np.min(seq_lens), np.max(seq_lens))) "
   ]
  },
  {
   "cell_type": "code",
   "execution_count": 89,
   "id": "2ec00c03-1b2b-45d5-abbd-b8cc6cf5d72e",
   "metadata": {},
   "outputs": [
    {
     "name": "stdout",
     "output_type": "stream",
     "text": [
      "Training sequences: 3200, testing: 800\n"
     ]
    }
   ],
   "source": [
    "# we don't care about student id, just that a sequence comes from the same student\n",
    "all_seqs = [ seq for _, seq in sequences_by_student.items() ]\n",
    "\n",
    "# shuffle all sequences\n",
    "rng.shuffle(all_seqs)\n",
    "\n",
    "# split into training and testing sequences\n",
    "p_train = 0.8\n",
    "n_train = int(p_train * len(all_seqs))\n",
    "\n",
    "train_seqs = all_seqs[:n_train]\n",
    "test_seqs = all_seqs[n_train:]\n",
    "\n",
    "print(\"Training sequences: %d, testing: %d\" % (len(train_seqs), len(test_seqs)))"
   ]
  },
  {
   "cell_type": "markdown",
   "id": "664755d5-7758-469b-be26-7c4df623f4cd",
   "metadata": {},
   "source": [
    "### Chopping sequences up\n",
    "\n",
    "We'll do something that is not ideal but for code clarity later on, we'll chop the sequences so that they do not exceed 50 trials in length."
   ]
  },
  {
   "cell_type": "code",
   "execution_count": 90,
   "id": "6130e466-7fcc-4ac3-975c-8eebb9aad910",
   "metadata": {},
   "outputs": [
    {
     "name": "stdout",
     "output_type": "stream",
     "text": [
      "After limiting to 50 trials, training sequences: 3200, testing: 800\n"
     ]
    }
   ],
   "source": [
    "def chop_sequences(seqs, max_len):\n",
    "    new_seqs = []\n",
    "    for seq in seqs:\n",
    "        \n",
    "        if len(seq) <= max_len:\n",
    "            new_seqs.append(seq)\n",
    "        else:\n",
    "            while len(seq) > max_len:\n",
    "                subseq = seq[:max_len]\n",
    "                new_seqs.append(subseq)\n",
    "                seq = seq[max_len:]\n",
    "            if len(seq) > 0:\n",
    "                new_seqs.append(seq)\n",
    "    \n",
    "    return new_seqs\n",
    "\n",
    "train_seqs = chop_sequences(train_seqs, 50)\n",
    "test_seqs = chop_sequences(test_seqs, 50)\n",
    "\n",
    "print(\"After limiting to 50 trials, training sequences: %d, testing: %d\" % (len(train_seqs), len(test_seqs)))"
   ]
  },
  {
   "cell_type": "markdown",
   "id": "057ef00d-f502-41e6-b444-94b70e11c590",
   "metadata": {},
   "source": [
    "### Padding\n",
    "\n",
    "We'll now pad all sequences so that they are the same length (50 trials). This is necessary for RNN training."
   ]
  },
  {
   "cell_type": "code",
   "execution_count": 91,
   "id": "54bffe48-c22f-4b03-bb4d-dc2706b9acfe",
   "metadata": {},
   "outputs": [],
   "source": [
    "padded_train_seqs = tf.keras.preprocessing.sequence.pad_sequences(train_seqs, padding=\"post\", value=-1)\n",
    "padded_test_seqs = tf.keras.preprocessing.sequence.pad_sequences(test_seqs, padding=\"post\", value=-1)"
   ]
  },
  {
   "cell_type": "markdown",
   "id": "1bf542d9-acf2-4bae-be04-318a44e21a46",
   "metadata": {},
   "source": [
    "## Feature Transformation\n",
    "\n",
    "- The input to the RNN cell consists of three things:\n",
    "    - The skill that was practiced at the previous time step\n",
    "    - Whether the student answered correctly or not at the previous time step\n",
    "    - The skill at the current time step\n",
    "- As you may have noticed, while the skill is numerically coded, it is a qualitative variable. So we have to use a one-hot encoding representation of it."
   ]
  },
  {
   "cell_type": "code",
   "execution_count": 92,
   "id": "f82a473b-b111-4ba4-9ec5-7b2d973cfa7e",
   "metadata": {},
   "outputs": [],
   "source": [
    "def transform_seqs(batch_seqs, n_skills):\n",
    "    \"\"\" Performs feature transformation on a batch of sequences:\n",
    "        \n",
    "        Input: batch_seqs with shape (B, N, 2)\n",
    "               where B is # of sequences in batch\n",
    "                     N is # of trials\n",
    "               n_skills: number of skills\n",
    "        Output: transformed inputs with shape (B, N, 2 * S + 1)\n",
    "               where S is number of skills\n",
    "    \"\"\"\n",
    "    \n",
    "    n_batch, n_trials, _ = batch_seqs.shape\n",
    "    \n",
    "    transformed = np.zeros((n_batch, n_trials, 2 * n_skills + 1))\n",
    "    y = np.zeros((n_batch, n_trials, 1))\n",
    "    \n",
    "    for seq_id, seq in enumerate(batch_seqs):\n",
    "        curr_skill = seq[0, 0]\n",
    "        \n",
    "        transformed[seq_id, 0, curr_skill] = 1\n",
    "        y[seq_id, 0, 0] = seq[0, 1]\n",
    "        \n",
    "        for i in range(1, n_trials):\n",
    "            \n",
    "            prev_skill = seq[i-1, 0]\n",
    "            prev_correct = seq[i-1, 1]\n",
    "            curr_skill = seq[i, 0]\n",
    "            y[seq_id, i, 0] = seq[i, 1]\n",
    "        \n",
    "            if curr_skill > -1:\n",
    "                transformed[seq_id, i, prev_skill] = 1\n",
    "                transformed[seq_id, i, n_skills + curr_skill] = 1\n",
    "                transformed[seq_id, i, n_skills + n_skills] = prev_correct\n",
    "        \n",
    "    return transformed, y\n",
    "#transform_seqs(padded_train_seqs[:5,:,:], 97)"
   ]
  },
  {
   "cell_type": "markdown",
   "id": "34ecfbc7-beed-4bc8-a81a-13268b8e1334",
   "metadata": {},
   "source": [
    "- You may be inclined to apply this operation to all training and testing sequences but your computer would probably run out of memory if you do so\n",
    "- Consider this: if you have a single sequence with $N=50$ trials and $S=100$ skills, then the input shape for that sequence will be $50 \\times 201 = 10050$ elements!\n",
    "- We'll have to use mini-batch learning and we'll have to take control of the keras training loop ourselves"
   ]
  },
  {
   "cell_type": "markdown",
   "id": "a7871f8e-c8af-4ed9-b569-514af0000373",
   "metadata": {},
   "source": [
    "## Model Training"
   ]
  },
  {
   "cell_type": "code",
   "execution_count": 96,
   "id": "ff6f58fd-b712-4652-8afa-37038d0c7801",
   "metadata": {},
   "outputs": [
    {
     "name": "stdout",
     "output_type": "stream",
     "text": [
      "Model: \"sequential_20\"\n",
      "_________________________________________________________________\n",
      "Layer (type)                 Output Shape              Param #   \n",
      "=================================================================\n",
      "masking_20 (Masking)         (None, 50, 195)           0         \n",
      "_________________________________________________________________\n",
      "lstm_20 (LSTM)               (None, 50, 100)           118400    \n",
      "_________________________________________________________________\n",
      "dropout_2 (Dropout)          (None, 50, 100)           0         \n",
      "_________________________________________________________________\n",
      "time_distributed_17 (TimeDis (None, 50, 1)             101       \n",
      "=================================================================\n",
      "Total params: 118,501\n",
      "Trainable params: 118,501\n",
      "Non-trainable params: 0\n",
      "_________________________________________________________________\n",
      "None\n"
     ]
    }
   ],
   "source": [
    "timesteps = 50\n",
    "features = 97 * 2 + 1\n",
    "n_hidden = 100\n",
    "\n",
    "model = tf.keras.models.Sequential()\n",
    "model.add(tf.keras.layers.Masking(mask_value=0.,input_shape=(timesteps, features)))\n",
    "model.add(tf.keras.layers.LSTM(n_hidden, return_sequences=True))\n",
    "model.add(tf.keras.layers.Dropout(0.5))\n",
    "output_layer = tf.keras.layers.Dense(1, activation='sigmoid')\n",
    "\n",
    "model.add(tf.keras.layers.TimeDistributed(output_layer))\n",
    "\n",
    "opt = tf.keras.optimizers.Nadam(learning_rate=0.01)\n",
    "\n",
    "model.compile(opt, 'binary_crossentropy')\n",
    "\n",
    "print(model.summary())\n"
   ]
  },
  {
   "cell_type": "code",
   "execution_count": 97,
   "id": "828172d6-5ada-442e-a403-6c82e08d6b6a",
   "metadata": {},
   "outputs": [
    {
     "name": "stdout",
     "output_type": "stream",
     "text": [
      "Finished epoch 0\n",
      "Loss =  33.509444147348404\n",
      "Finished epoch 1\n",
      "Loss =  33.3130176961422\n",
      "Finished epoch 2\n",
      "Loss =  33.205979228019714\n",
      "Finished epoch 3\n",
      "Loss =  32.98287257552147\n",
      "Finished epoch 4\n",
      "Loss =  32.95540598034859\n"
     ]
    }
   ],
   "source": [
    "n_skills = 97\n",
    "n_batch = 10\n",
    "n_epochs = 5\n",
    "\n",
    "for e in range(n_epochs):\n",
    "    rng.shuffle(padded_train_seqs)\n",
    "    for i in range(0, len(padded_train_seqs), n_batch):\n",
    "        start = i\n",
    "        end = i + n_batch\n",
    "\n",
    "        inputs, outputs = transform_seqs(padded_train_seqs[start:end,:,:], n_skills)\n",
    "        \n",
    "        model.train_on_batch(inputs,outputs)\n",
    "        \n",
    "    print(\"Finished epoch %d\" % e)\n",
    "    \n",
    "    total_loss = 0.0\n",
    "    for i in range(0, len(padded_test_seqs), n_batch):\n",
    "        start = i\n",
    "        end = i + n_batch\n",
    "\n",
    "        inputs, outputs = transform_seqs(padded_test_seqs[start:end,:,:], n_skills)\n",
    "        \n",
    "        ignore_ix = np.sum(inputs, axis=2) == 0\n",
    "        \n",
    "        loss = model.test_on_batch(inputs,outputs)\n",
    "        total_loss += loss\n",
    "        \n",
    "    print(\"Loss = \", total_loss)"
   ]
  },
  {
   "cell_type": "code",
   "execution_count": 98,
   "id": "21b46a9c-9478-4126-97e1-dd78e64e2946",
   "metadata": {},
   "outputs": [],
   "source": [
    "all_preds = []\n",
    "all_y = []\n",
    "for i in range(0, len(padded_test_seqs), n_batch):\n",
    "    start = i\n",
    "    end = i + n_batch\n",
    "\n",
    "    inputs, outputs = transform_seqs(padded_test_seqs[start:end,:,:], n_skills)\n",
    "    \n",
    "    \n",
    "    included_ix = np.sum(inputs, axis=2) != 0\n",
    "        \n",
    "    preds = model.predict_on_batch(inputs)\n",
    "    \n",
    "    included_ix = np.reshape(included_ix, -1)\n",
    "    preds = np.reshape(preds, -1)\n",
    "    y = np.reshape(outputs, -1)\n",
    "    \n",
    "    preds = preds[included_ix]\n",
    "    y = y[included_ix]\n",
    "    \n",
    "    all_preds.extend(preds)\n",
    "    all_y.extend(y)"
   ]
  },
  {
   "cell_type": "code",
   "execution_count": 99,
   "id": "b3f1c230-cc81-4f7b-890f-f478a19a4219",
   "metadata": {},
   "outputs": [],
   "source": [
    "import sklearn.metrics"
   ]
  },
  {
   "cell_type": "code",
   "execution_count": 100,
   "id": "3e2c2b31-aec0-4369-b432-7bf1ea080b55",
   "metadata": {},
   "outputs": [
    {
     "data": {
      "text/plain": [
       "0.803725"
      ]
     },
     "execution_count": 100,
     "metadata": {},
     "output_type": "execute_result"
    }
   ],
   "source": [
    "acc = sklearn.metrics.accuracy_score(all_y, np.array(all_preds) > 0.5)\n",
    "acc"
   ]
  },
  {
   "cell_type": "code",
   "execution_count": 101,
   "id": "dc1a07e3-1371-4de0-bf7b-74e0ac861ab9",
   "metadata": {},
   "outputs": [
    {
     "data": {
      "text/plain": [
       "0.8711255708583006"
      ]
     },
     "execution_count": 101,
     "metadata": {},
     "output_type": "execute_result"
    }
   ],
   "source": [
    "aucroc = sklearn.metrics.roc_auc_score(all_y, all_preds)\n",
    "aucroc"
   ]
  },
  {
   "cell_type": "code",
   "execution_count": 102,
   "id": "f45c2c7d-9973-4f80-9f99-41890652a002",
   "metadata": {},
   "outputs": [
    {
     "data": {
      "text/plain": [
       "0.7755635518638788"
      ]
     },
     "execution_count": 102,
     "metadata": {},
     "output_type": "execute_result"
    }
   ],
   "source": [
    "acc = sklearn.metrics.balanced_accuracy_score(all_y, np.array(all_preds) > 0.5)\n",
    "acc"
   ]
  },
  {
   "cell_type": "code",
   "execution_count": 103,
   "id": "82900923-a3e7-485b-8e83-66b581d0a8a9",
   "metadata": {},
   "outputs": [
    {
     "data": {
      "text/plain": [
       "array([[ 8833,  3802],\n",
       "       [ 4049, 23316]], dtype=int64)"
      ]
     },
     "execution_count": 103,
     "metadata": {},
     "output_type": "execute_result"
    }
   ],
   "source": [
    "cm = sklearn.metrics.confusion_matrix(all_y, np.array(all_preds) > 0.5)\n",
    "cm"
   ]
  },
  {
   "cell_type": "code",
   "execution_count": null,
   "id": "9939618d-0529-4552-aad8-07c7d7349653",
   "metadata": {},
   "outputs": [],
   "source": []
  }
 ],
 "metadata": {
  "kernelspec": {
   "display_name": "Python 3 (ipykernel)",
   "language": "python",
   "name": "python3"
  },
  "language_info": {
   "codemirror_mode": {
    "name": "ipython",
    "version": 3
   },
   "file_extension": ".py",
   "mimetype": "text/x-python",
   "name": "python",
   "nbconvert_exporter": "python",
   "pygments_lexer": "ipython3",
   "version": "3.8.12"
  }
 },
 "nbformat": 4,
 "nbformat_minor": 5
}
