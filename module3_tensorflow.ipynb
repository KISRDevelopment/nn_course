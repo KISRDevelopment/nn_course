{
 "cells": [
  {
   "cell_type": "markdown",
   "metadata": {},
   "source": [
    "# Module 3: Tensorflow\n",
    "\n",
    "* Tensorflow is a Python library for modeling differentiable graphs of functions\n",
    "* We will convert our nonlinear model code to Tensorflow in this module\n",
    "\n",
    "First, look at some basic tensorflow operations."
   ]
  },
  {
   "cell_type": "code",
   "execution_count": 1,
   "metadata": {},
   "outputs": [
    {
     "name": "stdout",
     "output_type": "stream",
     "text": [
      "Init Plugin\n",
      "Init Graph Optimizer\n",
      "Init Kernel\n"
     ]
    }
   ],
   "source": [
    "import numpy as np \n",
    "import tensorflow as tf \n",
    "import matplotlib.pyplot as plt "
   ]
  },
  {
   "cell_type": "code",
   "execution_count": 2,
   "metadata": {},
   "outputs": [
    {
     "name": "stdout",
     "output_type": "stream",
     "text": [
      "Metal device set to: Apple M1\n",
      "tf.Tensor(\n",
      "[[3 5]\n",
      " [6 6]], shape=(2, 2), dtype=int32)\n",
      "tf.Tensor(\n",
      "[[3 6]\n",
      " [5 6]], shape=(2, 2), dtype=int32)\n",
      "tf.Tensor(\n",
      "[[ 7]\n",
      " [11]], shape=(2, 1), dtype=int32)\n",
      "tf.Tensor(\n",
      "[[0 4]\n",
      " [5 0]], shape=(2, 2), dtype=int32)\n",
      "tf.Tensor(\n",
      "[[1. 0. 0.]\n",
      " [0. 1. 0.]\n",
      " [0. 0. 1.]], shape=(3, 3), dtype=float32)\n",
      "(3, 3)\n",
      "tf.Tensor([3 3], shape=(2,), dtype=int32)\n",
      "[[3 4]\n",
      " [5 6]]\n",
      "[[0 1]\n",
      " [1 0]]\n",
      "tf.Tensor(3, shape=(), dtype=int32)\n",
      "tf.Tensor(True, shape=(), dtype=bool)\n",
      "True\n"
     ]
    },
    {
     "name": "stderr",
     "output_type": "stream",
     "text": [
      "2021-12-02 14:48:42.539547: I tensorflow/core/common_runtime/pluggable_device/pluggable_device_factory.cc:305] Could not identify NUMA node of platform GPU ID 0, defaulting to 0. Your kernel may not have been built with NUMA support.\n",
      "2021-12-02 14:48:42.540000: I tensorflow/core/common_runtime/pluggable_device/pluggable_device_factory.cc:271] Created TensorFlow device (/job:localhost/replica:0/task:0/device:GPU:0 with 0 MB memory) -> physical PluggableDevice (device: 0, name: METAL, pci bus id: <undefined>)\n"
     ]
    }
   ],
   "source": [
    "# make constant tensors\n",
    "A = tf.constant([[3, 4], [5, 6]])\n",
    "B = tf.constant([[0, 1], [1, 0]])\n",
    "\n",
    "# add them up\n",
    "R = A + B\n",
    "print(R)\n",
    "\n",
    "# transpose (flip rows and columns)\n",
    "print(tf.transpose(R))\n",
    "\n",
    "# matrix multiplication\n",
    "R = tf.matmul(A, tf.constant([[1], [1]]))\n",
    "print(R)\n",
    "\n",
    "# element-wise multiplication\n",
    "R = tf.multiply(A, B)\n",
    "print(R)\n",
    "\n",
    "# make an identity matrix\n",
    "I = tf.eye(3)\n",
    "print(I)\n",
    "\n",
    "# shape access: static vs. dynamic\n",
    "print(I.shape)\n",
    "print(tf.shape(I))\n",
    "\n",
    "# going from tensorflow to numpy\n",
    "print(A.numpy())\n",
    "print(B.numpy())\n",
    "\n",
    "# access: notice that it returns a tensor\n",
    "print(A[0, 0])\n",
    "\n",
    "# equality check, again it returns a tensor\n",
    "print(A[0, 0] == 3)\n",
    "\n",
    "# go to numpy to get truthiness\n",
    "print((A[0,0] == 3).numpy())"
   ]
  },
  {
   "cell_type": "markdown",
   "metadata": {},
   "source": [
    "## What is the big deal?\n",
    "\n",
    "* So far, this looks like just another numpy-like library. So what is the point? ***automatic differentiaion***\n",
    "* Let's take a look at a simple example: we'll use tensorflow to compute the derivative of an arbitary mathematical function with respect to the inputs."
   ]
  },
  {
   "cell_type": "code",
   "execution_count": 4,
   "metadata": {},
   "outputs": [
    {
     "data": {
      "text/plain": [
       "[<matplotlib.lines.Line2D at 0x16ae28970>]"
      ]
     },
     "execution_count": 4,
     "metadata": {},
     "output_type": "execute_result"
    },
    {
     "data": {
      "image/png": "[encoded data removed]",
      "text/plain": [
       "<Figure size 720x360 with 1 Axes>"
      ]
     },
     "metadata": {
      "needs_background": "light"
     },
     "output_type": "display_data"
    }
   ],
   "source": [
    "# define some mathematical function\n",
    "def gelu(x):\n",
    "    return np.power(x, 2) + np.power(x, 3)\n",
    "\n",
    "# plot\n",
    "xstar = np.linspace(-4, 4, 1000)\n",
    "ystar = gelu(xstar)\n",
    "f, ax = plt.subplots(1, 1, figsize=(10, 5))\n",
    "ax.plot(xstar, ystar)"
   ]
  },
  {
   "cell_type": "code",
   "execution_count": 6,
   "metadata": {},
   "outputs": [
    {
     "data": {
      "text/plain": [
       "[<matplotlib.lines.Line2D at 0x16af62670>]"
      ]
     },
     "execution_count": 6,
     "metadata": {},
     "output_type": "execute_result"
    },
    {
     "data": {
      "image/png": "[encoded data removed]",
      "text/plain": [
       "<Figure size 720x360 with 1 Axes>"
      ]
     },
     "metadata": {
      "needs_background": "light"
     },
     "output_type": "display_data"
    }
   ],
   "source": [
    "# define the same function in tensorflow\n",
    "def gelu_tf(x):\n",
    "    return tf.pow(x, 2) + tf.pow(x, 3)\n",
    "\n",
    "# compute the gradient with respect to the input\n",
    "xstar_tf = tf.Variable(xstar)\n",
    "with tf.GradientTape() as gt:\n",
    "    y = gelu_tf(xstar_tf)\n",
    "    gradient = gt.gradient(y, xstar_tf).numpy()\n",
    "\n",
    "# plot the gradient\n",
    "f, ax = plt.subplots(1, 1, figsize=(10, 5))\n",
    "ax.plot(xstar, gradient)"
   ]
  },
  {
   "cell_type": "markdown",
   "metadata": {},
   "source": [
    "* Here, the `GradientTape()` class keeps track of all forward tensorflow computations done within in the `with` block.\n",
    "* When you are ready to get the gradients, you call the `gradient()` function which accepts a tensorflow expression and the variable to differentiate against.\n",
    "\n",
    "## Reimplementing the Sinusoidal Model in Tensorflow\n",
    "\n",
    "* We'll reimplement the gradient descent code of the Sinusoidal model from Module 2 in Tensorflow. Only now it will be much less painful."
   ]
  },
  {
   "cell_type": "code",
   "execution_count": 9,
   "metadata": {},
   "outputs": [
    {
     "name": "stdout",
     "output_type": "stream",
     "text": [
      "Final MSE: 1.7781\n",
      "[-0.29392526  1.2945211   0.24217474  1.0502145 ]\n"
     ]
    }
   ],
   "source": [
    "import numpy.random as rng \n",
    "\n",
    "# read data\n",
    "data = np.load('code/day2/fake_data.npz')\n",
    "X, y = data['X'], data['y']\n",
    "\n",
    "# move data to tensorflow space\n",
    "X = tf.convert_to_tensor(X, dtype=tf.float32)\n",
    "y = tf.convert_to_tensor(y, dtype=tf.float32)\n",
    "\n",
    "# randomly initialize model parameters (beta0, beta1, gamma0, gamma1)\n",
    "theta = tf.Variable(rng.randn(4), dtype=tf.float32)\n",
    "\n",
    "# create optimizer\n",
    "# in addition to vanilla gradient descent optimizer,\n",
    "# tensorflow has multiple optimizers available.\n",
    "# here we use the vanilla optimizer, known as \n",
    "# stochastic gradient descent\n",
    "optimizer = tf.keras.optimizers.SGD(learning_rate=0.1)\n",
    "\n",
    "# repeat N times\n",
    "N = 200\n",
    "for i in range(N):\n",
    "    \n",
    "    with tf.GradientTape() as gt:\n",
    "        \n",
    "        # forward computation\n",
    "        linear_part = theta[0] + theta[1] * X \n",
    "        g = tf.cos(linear_part)\n",
    "        ypred = theta[2] + theta[3] * g\n",
    "        \n",
    "        # loss\n",
    "        mse_loss = tf.reduce_mean(tf.square(ypred - y))\n",
    "        \n",
    "    # compute gradient of loss with respect to parameters\n",
    "    # calculus NOT required!\n",
    "    dloss_dtheta = gt.gradient(mse_loss, theta)\n",
    "    \n",
    "    # update the parameters\n",
    "    # this takes a list where each element is a tuple\n",
    "    # of (gradient, corresponding parameter)\n",
    "    optimizer.apply_gradients([(dloss_dtheta, theta)])\n",
    "    \n",
    "# report results\n",
    "linear_part = theta[0] + theta[1] * X \n",
    "g = tf.cos(linear_part)\n",
    "ypred = theta[2] + theta[3] * g\n",
    "mse_loss = tf.reduce_mean(tf.square(ypred - y))\n",
    "print(\"Final MSE: %0.4f\" % mse_loss.numpy())\n",
    "final_theta = theta.numpy()\n",
    "print(final_theta)"
   ]
  },
  {
   "cell_type": "markdown",
   "metadata": {},
   "source": [
    "* We only needed to specify the forward computation in tensorflow, and the library took care of the backward pass (the more difficult part!)\n",
    "* The optimizer is responsible for applying the update rule. Here we are using a vanilla optimizer with a fixed learning rate, but Tensorflow supports optimizers that adapt learning rates"
   ]
  }
 ],
 "metadata": {
  "kernelspec": {
   "display_name": "Python 3 (ipykernel)",
   "language": "python",
   "name": "python3"
  },
  "language_info": {
   "codemirror_mode": {
    "name": "ipython",
    "version": 3
   },
   "file_extension": ".py",
   "mimetype": "text/x-python",
   "name": "python",
   "nbconvert_exporter": "python",
   "pygments_lexer": "ipython3",
   "version": "3.8.10"
  }
 },
 "nbformat": 4,
 "nbformat_minor": 4
}
